{
  "nbformat": 4,
  "nbformat_minor": 0,
  "metadata": {
    "colab": {
      "provenance": [],
      "include_colab_link": true
    },
    "kernelspec": {
      "name": "python3",
      "display_name": "Python 3"
    },
    "language_info": {
      "name": "python"
    }
  },
  "cells": [
    {
      "cell_type": "markdown",
      "metadata": {
        "id": "view-in-github",
        "colab_type": "text"
      },
      "source": [
        "<a href=\"https://colab.research.google.com/github/yubin012/OpenSource_project_Music_Instrument/blob/main/ONLY_CNN.ipynb\" target=\"_parent\"><img src=\"https://colab.research.google.com/assets/colab-badge.svg\" alt=\"Open In Colab\"/></a>"
      ]
    },
    {
      "cell_type": "code",
      "execution_count": null,
      "metadata": {
        "id": "G6Bn3HuSEmG4"
      },
      "outputs": [],
      "source": [
        "!pip install -q evaluate transformers==4.28.1\n",
        "!pip install -U -q datasets\n",
        "!pip install -q torchaudio==0.12\n",
        "!add-apt-repository -y ppa:savoury1/ffmpeg4\n",
        "!apt-get -qq install -y ffmpeg\n",
        "!pip install -q mlflow\n",
        "!pip install resampy==0.2.2\n",
        "!pip install librosa numpy pandas"
      ]
    },
    {
      "cell_type": "code",
      "source": [
        "!pip install kaggle\n",
        "from google.colab import files\n",
        "files.upload()"
      ],
      "metadata": {
        "id": "8Qc4PItVZNQo"
      },
      "execution_count": null,
      "outputs": []
    },
    {
      "cell_type": "code",
      "source": [
        "ls -1ha kaggle.json"
      ],
      "metadata": {
        "id": "E05dvHHEqqo4",
        "colab": {
          "base_uri": "https://localhost:8080/"
        },
        "outputId": "5cea2d83-0e2b-4bc6-897c-8aaf2742cde9"
      },
      "execution_count": null,
      "outputs": [
        {
          "output_type": "stream",
          "name": "stdout",
          "text": [
            "kaggle.json\n"
          ]
        }
      ]
    },
    {
      "cell_type": "code",
      "source": [
        "!mkdir -p ~/.kaggle\n",
        "!cp kaggle.json ~/.kaggle/\n",
        "\n",
        "# Permission Warning 방지\n",
        "!chmod 600 ~/.kaggle/kaggle.json"
      ],
      "metadata": {
        "id": "sHJwk12xqtmu"
      },
      "execution_count": null,
      "outputs": []
    },
    {
      "cell_type": "code",
      "source": [
        "!kaggle datasets download -d soumendraprasad/musical-instruments-sound-dataset"
      ],
      "metadata": {
        "id": "Io56Y50sqxvu",
        "colab": {
          "base_uri": "https://localhost:8080/"
        },
        "outputId": "890a4aa5-44ce-46ba-f5a7-243c3e0e0926"
      },
      "execution_count": null,
      "outputs": [
        {
          "output_type": "stream",
          "name": "stdout",
          "text": [
            "Downloading musical-instruments-sound-dataset.zip to /content\n",
            "100% 5.39G/5.40G [03:22<00:00, 26.7MB/s]\n",
            "100% 5.40G/5.40G [03:22<00:00, 28.6MB/s]\n"
          ]
        }
      ]
    },
    {
      "cell_type": "code",
      "source": [
        "!ls"
      ],
      "metadata": {
        "id": "1vGV6UhWrFBD",
        "colab": {
          "base_uri": "https://localhost:8080/"
        },
        "outputId": "fe49fb25-cc54-444f-fc64-d7d3adc64fc3"
      },
      "execution_count": null,
      "outputs": [
        {
          "output_type": "stream",
          "name": "stdout",
          "text": [
            "drive  kaggle.json  musical-instruments-sound-dataset.zip  sample_data\n"
          ]
        }
      ]
    },
    {
      "cell_type": "code",
      "source": [
        "! unzip musical-instruments-sound-dataset.zip"
      ],
      "metadata": {
        "id": "OlQAe1E19TrG"
      },
      "execution_count": null,
      "outputs": []
    },
    {
      "cell_type": "code",
      "source": [
        "#imports\n",
        "import os\n",
        "from tqdm import tqdm\n",
        "import pandas as pd\n",
        "import numpy as np\n",
        "import matplotlib.pyplot as plt\n",
        "import seaborn as sns\n",
        "from scipy.io import wavfile\n",
        "import librosa\n",
        "import librosa.display\n",
        "import resampy\n",
        "\n",
        "import tensorflow as tf\n",
        "from tensorflow.keras.models import Sequential\n",
        "from tensorflow.keras.layers import Dense,Dropout,Activation\n",
        "from tensorflow.keras.optimizers import Adam\n",
        "\n",
        "import warnings\n",
        "warnings.filterwarnings(\"ignore\")\n",
        "\n",
        "from tqdm import tqdm\n",
        "tqdm.pandas()\n",
        "from imblearn.over_sampling import RandomOverSampler\n",
        "from imblearn.under_sampling import RandomUnderSampler\n",
        "import torch\n",
        "import datasets\n",
        "import transformers\n",
        "print(transformers.__version__)"
      ],
      "metadata": {
        "colab": {
          "base_uri": "https://localhost:8080/"
        },
        "id": "1G4BgqJRH34t",
        "outputId": "2be15791-230c-41e0-ac1a-802a971a2bb7"
      },
      "execution_count": null,
      "outputs": [
        {
          "output_type": "stream",
          "name": "stdout",
          "text": [
            "4.28.1\n"
          ]
        }
      ]
    },
    {
      "cell_type": "markdown",
      "source": [
        "#1. 데이터 전처리"
      ],
      "metadata": {
        "id": "mYX2WbiFZ0Rx"
      }
    },
    {
      "cell_type": "code",
      "source": [
        "# before start\n",
        "# 메타데이터 데이터 시각화"
      ],
      "metadata": {
        "id": "E0qzSbqlr3f_"
      },
      "execution_count": null,
      "outputs": []
    },
    {
      "cell_type": "code",
      "source": [
        "df=pd.read_csv(\"Metadata_Train.csv\")\n",
        "df2=pd.read_csv(\"Metadata_Test.csv\")\n",
        "df"
      ],
      "metadata": {
        "colab": {
          "base_uri": "https://localhost:8080/",
          "height": 424
        },
        "id": "6zPp84NtH97E",
        "outputId": "7ff282e3-e0d9-4294-964e-7ff080d742f7"
      },
      "execution_count": null,
      "outputs": [
        {
          "output_type": "execute_result",
          "data": {
            "text/plain": [
              "                             FileName         Class\n",
              "0                   1-E1-Major 00.wav  Sound_Guitar\n",
              "1                   1-E1-Major 01.wav  Sound_Guitar\n",
              "2                   1-E1-Major 02.wav  Sound_Guitar\n",
              "3                   1-E1-Major 03.wav  Sound_Guitar\n",
              "4                   1-E1-Major 04.wav  Sound_Guitar\n",
              "...                               ...           ...\n",
              "2624          strange-piano-73881.wav   Sound_Piano\n",
              "2625        the-last-piano-112677.wav   Sound_Piano\n",
              "2626  this-is-war-version-e-95411.wav   Sound_Piano\n",
              "2627     tired-ghosts-piano-65013.wav   Sound_Piano\n",
              "2628              toy-piano-27311.wav   Sound_Piano\n",
              "\n",
              "[2629 rows x 2 columns]"
            ],
            "text/html": [
              "\n",
              "  <div id=\"df-69df60b6-738f-4536-ac31-be3db5063f7a\" class=\"colab-df-container\">\n",
              "    <div>\n",
              "<style scoped>\n",
              "    .dataframe tbody tr th:only-of-type {\n",
              "        vertical-align: middle;\n",
              "    }\n",
              "\n",
              "    .dataframe tbody tr th {\n",
              "        vertical-align: top;\n",
              "    }\n",
              "\n",
              "    .dataframe thead th {\n",
              "        text-align: right;\n",
              "    }\n",
              "</style>\n",
              "<table border=\"1\" class=\"dataframe\">\n",
              "  <thead>\n",
              "    <tr style=\"text-align: right;\">\n",
              "      <th></th>\n",
              "      <th>FileName</th>\n",
              "      <th>Class</th>\n",
              "    </tr>\n",
              "  </thead>\n",
              "  <tbody>\n",
              "    <tr>\n",
              "      <th>0</th>\n",
              "      <td>1-E1-Major 00.wav</td>\n",
              "      <td>Sound_Guitar</td>\n",
              "    </tr>\n",
              "    <tr>\n",
              "      <th>1</th>\n",
              "      <td>1-E1-Major 01.wav</td>\n",
              "      <td>Sound_Guitar</td>\n",
              "    </tr>\n",
              "    <tr>\n",
              "      <th>2</th>\n",
              "      <td>1-E1-Major 02.wav</td>\n",
              "      <td>Sound_Guitar</td>\n",
              "    </tr>\n",
              "    <tr>\n",
              "      <th>3</th>\n",
              "      <td>1-E1-Major 03.wav</td>\n",
              "      <td>Sound_Guitar</td>\n",
              "    </tr>\n",
              "    <tr>\n",
              "      <th>4</th>\n",
              "      <td>1-E1-Major 04.wav</td>\n",
              "      <td>Sound_Guitar</td>\n",
              "    </tr>\n",
              "    <tr>\n",
              "      <th>...</th>\n",
              "      <td>...</td>\n",
              "      <td>...</td>\n",
              "    </tr>\n",
              "    <tr>\n",
              "      <th>2624</th>\n",
              "      <td>strange-piano-73881.wav</td>\n",
              "      <td>Sound_Piano</td>\n",
              "    </tr>\n",
              "    <tr>\n",
              "      <th>2625</th>\n",
              "      <td>the-last-piano-112677.wav</td>\n",
              "      <td>Sound_Piano</td>\n",
              "    </tr>\n",
              "    <tr>\n",
              "      <th>2626</th>\n",
              "      <td>this-is-war-version-e-95411.wav</td>\n",
              "      <td>Sound_Piano</td>\n",
              "    </tr>\n",
              "    <tr>\n",
              "      <th>2627</th>\n",
              "      <td>tired-ghosts-piano-65013.wav</td>\n",
              "      <td>Sound_Piano</td>\n",
              "    </tr>\n",
              "    <tr>\n",
              "      <th>2628</th>\n",
              "      <td>toy-piano-27311.wav</td>\n",
              "      <td>Sound_Piano</td>\n",
              "    </tr>\n",
              "  </tbody>\n",
              "</table>\n",
              "<p>2629 rows × 2 columns</p>\n",
              "</div>\n",
              "    <div class=\"colab-df-buttons\">\n",
              "\n",
              "  <div class=\"colab-df-container\">\n",
              "    <button class=\"colab-df-convert\" onclick=\"convertToInteractive('df-69df60b6-738f-4536-ac31-be3db5063f7a')\"\n",
              "            title=\"Convert this dataframe to an interactive table.\"\n",
              "            style=\"display:none;\">\n",
              "\n",
              "  <svg xmlns=\"http://www.w3.org/2000/svg\" height=\"24px\" viewBox=\"0 -960 960 960\">\n",
              "    <path d=\"M120-120v-720h720v720H120Zm60-500h600v-160H180v160Zm220 220h160v-160H400v160Zm0 220h160v-160H400v160ZM180-400h160v-160H180v160Zm440 0h160v-160H620v160ZM180-180h160v-160H180v160Zm440 0h160v-160H620v160Z\"/>\n",
              "  </svg>\n",
              "    </button>\n",
              "\n",
              "  <style>\n",
              "    .colab-df-container {\n",
              "      display:flex;\n",
              "      gap: 12px;\n",
              "    }\n",
              "\n",
              "    .colab-df-convert {\n",
              "      background-color: #E8F0FE;\n",
              "      border: none;\n",
              "      border-radius: 50%;\n",
              "      cursor: pointer;\n",
              "      display: none;\n",
              "      fill: #1967D2;\n",
              "      height: 32px;\n",
              "      padding: 0 0 0 0;\n",
              "      width: 32px;\n",
              "    }\n",
              "\n",
              "    .colab-df-convert:hover {\n",
              "      background-color: #E2EBFA;\n",
              "      box-shadow: 0px 1px 2px rgba(60, 64, 67, 0.3), 0px 1px 3px 1px rgba(60, 64, 67, 0.15);\n",
              "      fill: #174EA6;\n",
              "    }\n",
              "\n",
              "    .colab-df-buttons div {\n",
              "      margin-bottom: 4px;\n",
              "    }\n",
              "\n",
              "    [theme=dark] .colab-df-convert {\n",
              "      background-color: #3B4455;\n",
              "      fill: #D2E3FC;\n",
              "    }\n",
              "\n",
              "    [theme=dark] .colab-df-convert:hover {\n",
              "      background-color: #434B5C;\n",
              "      box-shadow: 0px 1px 3px 1px rgba(0, 0, 0, 0.15);\n",
              "      filter: drop-shadow(0px 1px 2px rgba(0, 0, 0, 0.3));\n",
              "      fill: #FFFFFF;\n",
              "    }\n",
              "  </style>\n",
              "\n",
              "    <script>\n",
              "      const buttonEl =\n",
              "        document.querySelector('#df-69df60b6-738f-4536-ac31-be3db5063f7a button.colab-df-convert');\n",
              "      buttonEl.style.display =\n",
              "        google.colab.kernel.accessAllowed ? 'block' : 'none';\n",
              "\n",
              "      async function convertToInteractive(key) {\n",
              "        const element = document.querySelector('#df-69df60b6-738f-4536-ac31-be3db5063f7a');\n",
              "        const dataTable =\n",
              "          await google.colab.kernel.invokeFunction('convertToInteractive',\n",
              "                                                    [key], {});\n",
              "        if (!dataTable) return;\n",
              "\n",
              "        const docLinkHtml = 'Like what you see? Visit the ' +\n",
              "          '<a target=\"_blank\" href=https://colab.research.google.com/notebooks/data_table.ipynb>data table notebook</a>'\n",
              "          + ' to learn more about interactive tables.';\n",
              "        element.innerHTML = '';\n",
              "        dataTable['output_type'] = 'display_data';\n",
              "        await google.colab.output.renderOutput(dataTable, element);\n",
              "        const docLink = document.createElement('div');\n",
              "        docLink.innerHTML = docLinkHtml;\n",
              "        element.appendChild(docLink);\n",
              "      }\n",
              "    </script>\n",
              "  </div>\n",
              "\n",
              "\n",
              "<div id=\"df-01fd80f1-4d89-486e-9d4e-636a43d379d9\">\n",
              "  <button class=\"colab-df-quickchart\" onclick=\"quickchart('df-01fd80f1-4d89-486e-9d4e-636a43d379d9')\"\n",
              "            title=\"Suggest charts\"\n",
              "            style=\"display:none;\">\n",
              "\n",
              "<svg xmlns=\"http://www.w3.org/2000/svg\" height=\"24px\"viewBox=\"0 0 24 24\"\n",
              "     width=\"24px\">\n",
              "    <g>\n",
              "        <path d=\"M19 3H5c-1.1 0-2 .9-2 2v14c0 1.1.9 2 2 2h14c1.1 0 2-.9 2-2V5c0-1.1-.9-2-2-2zM9 17H7v-7h2v7zm4 0h-2V7h2v10zm4 0h-2v-4h2v4z\"/>\n",
              "    </g>\n",
              "</svg>\n",
              "  </button>\n",
              "\n",
              "<style>\n",
              "  .colab-df-quickchart {\n",
              "      --bg-color: #E8F0FE;\n",
              "      --fill-color: #1967D2;\n",
              "      --hover-bg-color: #E2EBFA;\n",
              "      --hover-fill-color: #174EA6;\n",
              "      --disabled-fill-color: #AAA;\n",
              "      --disabled-bg-color: #DDD;\n",
              "  }\n",
              "\n",
              "  [theme=dark] .colab-df-quickchart {\n",
              "      --bg-color: #3B4455;\n",
              "      --fill-color: #D2E3FC;\n",
              "      --hover-bg-color: #434B5C;\n",
              "      --hover-fill-color: #FFFFFF;\n",
              "      --disabled-bg-color: #3B4455;\n",
              "      --disabled-fill-color: #666;\n",
              "  }\n",
              "\n",
              "  .colab-df-quickchart {\n",
              "    background-color: var(--bg-color);\n",
              "    border: none;\n",
              "    border-radius: 50%;\n",
              "    cursor: pointer;\n",
              "    display: none;\n",
              "    fill: var(--fill-color);\n",
              "    height: 32px;\n",
              "    padding: 0;\n",
              "    width: 32px;\n",
              "  }\n",
              "\n",
              "  .colab-df-quickchart:hover {\n",
              "    background-color: var(--hover-bg-color);\n",
              "    box-shadow: 0 1px 2px rgba(60, 64, 67, 0.3), 0 1px 3px 1px rgba(60, 64, 67, 0.15);\n",
              "    fill: var(--button-hover-fill-color);\n",
              "  }\n",
              "\n",
              "  .colab-df-quickchart-complete:disabled,\n",
              "  .colab-df-quickchart-complete:disabled:hover {\n",
              "    background-color: var(--disabled-bg-color);\n",
              "    fill: var(--disabled-fill-color);\n",
              "    box-shadow: none;\n",
              "  }\n",
              "\n",
              "  .colab-df-spinner {\n",
              "    border: 2px solid var(--fill-color);\n",
              "    border-color: transparent;\n",
              "    border-bottom-color: var(--fill-color);\n",
              "    animation:\n",
              "      spin 1s steps(1) infinite;\n",
              "  }\n",
              "\n",
              "  @keyframes spin {\n",
              "    0% {\n",
              "      border-color: transparent;\n",
              "      border-bottom-color: var(--fill-color);\n",
              "      border-left-color: var(--fill-color);\n",
              "    }\n",
              "    20% {\n",
              "      border-color: transparent;\n",
              "      border-left-color: var(--fill-color);\n",
              "      border-top-color: var(--fill-color);\n",
              "    }\n",
              "    30% {\n",
              "      border-color: transparent;\n",
              "      border-left-color: var(--fill-color);\n",
              "      border-top-color: var(--fill-color);\n",
              "      border-right-color: var(--fill-color);\n",
              "    }\n",
              "    40% {\n",
              "      border-color: transparent;\n",
              "      border-right-color: var(--fill-color);\n",
              "      border-top-color: var(--fill-color);\n",
              "    }\n",
              "    60% {\n",
              "      border-color: transparent;\n",
              "      border-right-color: var(--fill-color);\n",
              "    }\n",
              "    80% {\n",
              "      border-color: transparent;\n",
              "      border-right-color: var(--fill-color);\n",
              "      border-bottom-color: var(--fill-color);\n",
              "    }\n",
              "    90% {\n",
              "      border-color: transparent;\n",
              "      border-bottom-color: var(--fill-color);\n",
              "    }\n",
              "  }\n",
              "</style>\n",
              "\n",
              "  <script>\n",
              "    async function quickchart(key) {\n",
              "      const quickchartButtonEl =\n",
              "        document.querySelector('#' + key + ' button');\n",
              "      quickchartButtonEl.disabled = true;  // To prevent multiple clicks.\n",
              "      quickchartButtonEl.classList.add('colab-df-spinner');\n",
              "      try {\n",
              "        const charts = await google.colab.kernel.invokeFunction(\n",
              "            'suggestCharts', [key], {});\n",
              "      } catch (error) {\n",
              "        console.error('Error during call to suggestCharts:', error);\n",
              "      }\n",
              "      quickchartButtonEl.classList.remove('colab-df-spinner');\n",
              "      quickchartButtonEl.classList.add('colab-df-quickchart-complete');\n",
              "    }\n",
              "    (() => {\n",
              "      let quickchartButtonEl =\n",
              "        document.querySelector('#df-01fd80f1-4d89-486e-9d4e-636a43d379d9 button');\n",
              "      quickchartButtonEl.style.display =\n",
              "        google.colab.kernel.accessAllowed ? 'block' : 'none';\n",
              "    })();\n",
              "  </script>\n",
              "</div>\n",
              "    </div>\n",
              "  </div>\n"
            ]
          },
          "metadata": {},
          "execution_count": 10
        }
      ]
    },
    {
      "cell_type": "code",
      "source": [
        "df['Class'].value_counts()"
      ],
      "metadata": {
        "colab": {
          "base_uri": "https://localhost:8080/"
        },
        "id": "R6s8HNsuMvry",
        "outputId": "33306b51-d697-4312-9e3c-1362cebbf4fd"
      },
      "execution_count": null,
      "outputs": [
        {
          "output_type": "execute_result",
          "data": {
            "text/plain": [
              "Sound_Guitar    700\n",
              "Sound_Drum      700\n",
              "Sound_Violin    700\n",
              "Sound_Piano     529\n",
              "Name: Class, dtype: int64"
            ]
          },
          "metadata": {},
          "execution_count": 11
        }
      ]
    },
    {
      "cell_type": "code",
      "source": [
        "plt.figure(figsize=(22, 10))\n",
        "sns.barplot(x=df['Class'].value_counts().index, y=df['Class'].value_counts())\n",
        "plt.xticks(rotation=0)\n",
        "plt.show()"
      ],
      "metadata": {
        "colab": {
          "base_uri": "https://localhost:8080/",
          "height": 398
        },
        "id": "6MguyLNpb_qW",
        "outputId": "9a6a4399-7d88-4f34-f8b5-2a260532017d"
      },
      "execution_count": null,
      "outputs": [
        {
          "output_type": "display_data",
          "data": {
            "text/plain": [
              "<Figure size 2200x1000 with 1 Axes>"
            ],
            "image/png": "[encoded data removed]"
          },
          "metadata": {}
        }
      ]
    },
    {
      "cell_type": "code",
      "source": [
        "RATE_HZ = 16000  # 리샘플링된 주파수(Hz)\n",
        "MAX_LENGTH = 240000  # 고려할 최대 오디오 구간 길이(= RATE_HZ * SECONDS)\n",
        "labels = ['Sound_Guitar', 'Sound_Drum', 'Sound_Piano','Sound_Violin']  # 음악 악기 레이블 목록\n",
        "\n",
        "# 레이블과 해당 ID 간의 매핑을 위한 딕셔너리 생성\n",
        "label2id, id2label = dict(), dict()\n",
        "for i, label in enumerate(labels):\n",
        "    label2id[label] = i\n",
        "    id2label[i] = label\n",
        "\n",
        "# 결과 출력\n",
        "print(id2label, '\\n\\n', label2id)"
      ],
      "metadata": {
        "colab": {
          "base_uri": "https://localhost:8080/"
        },
        "id": "LeidQgyAM8nu",
        "outputId": "f091c45d-6826-4abf-d2bd-4e350cd8282c"
      },
      "execution_count": null,
      "outputs": [
        {
          "output_type": "stream",
          "name": "stdout",
          "text": [
            "{0: 'Sound_Guitar', 1: 'Sound_Drum', 2: 'Sound_Piano', 3: 'Sound_Violin'} \n",
            "\n",
            " {'Sound_Guitar': 0, 'Sound_Drum': 1, 'Sound_Piano': 2, 'Sound_Violin': 3}\n"
          ]
        }
      ]
    },
    {
      "cell_type": "code",
      "source": [
        "# 'Class' 열의 각 값에 대한 label 값을 찾아서 'label' 열에 추가\n",
        "df['label'] = df['Class'].map(label2id)\n",
        "\n",
        "# 결과 출력\n",
        "df"
      ],
      "metadata": {
        "colab": {
          "base_uri": "https://localhost:8080/",
          "height": 424
        },
        "id": "tdJrdrevkoN6",
        "outputId": "3c4bec31-7626-4604-faaf-d6f58981e813"
      },
      "execution_count": null,
      "outputs": [
        {
          "output_type": "execute_result",
          "data": {
            "text/plain": [
              "                             FileName         Class  label\n",
              "0                   1-E1-Major 00.wav  Sound_Guitar      0\n",
              "1                   1-E1-Major 01.wav  Sound_Guitar      0\n",
              "2                   1-E1-Major 02.wav  Sound_Guitar      0\n",
              "3                   1-E1-Major 03.wav  Sound_Guitar      0\n",
              "4                   1-E1-Major 04.wav  Sound_Guitar      0\n",
              "...                               ...           ...    ...\n",
              "2624          strange-piano-73881.wav   Sound_Piano      2\n",
              "2625        the-last-piano-112677.wav   Sound_Piano      2\n",
              "2626  this-is-war-version-e-95411.wav   Sound_Piano      2\n",
              "2627     tired-ghosts-piano-65013.wav   Sound_Piano      2\n",
              "2628              toy-piano-27311.wav   Sound_Piano      2\n",
              "\n",
              "[2629 rows x 3 columns]"
            ],
            "text/html": [
              "\n",
              "  <div id=\"df-51b02ccd-b27f-44f6-a4f8-63ce92a52ede\" class=\"colab-df-container\">\n",
              "    <div>\n",
              "<style scoped>\n",
              "    .dataframe tbody tr th:only-of-type {\n",
              "        vertical-align: middle;\n",
              "    }\n",
              "\n",
              "    .dataframe tbody tr th {\n",
              "        vertical-align: top;\n",
              "    }\n",
              "\n",
              "    .dataframe thead th {\n",
              "        text-align: right;\n",
              "    }\n",
              "</style>\n",
              "<table border=\"1\" class=\"dataframe\">\n",
              "  <thead>\n",
              "    <tr style=\"text-align: right;\">\n",
              "      <th></th>\n",
              "      <th>FileName</th>\n",
              "      <th>Class</th>\n",
              "      <th>label</th>\n",
              "    </tr>\n",
              "  </thead>\n",
              "  <tbody>\n",
              "    <tr>\n",
              "      <th>0</th>\n",
              "      <td>1-E1-Major 00.wav</td>\n",
              "      <td>Sound_Guitar</td>\n",
              "      <td>0</td>\n",
              "    </tr>\n",
              "    <tr>\n",
              "      <th>1</th>\n",
              "      <td>1-E1-Major 01.wav</td>\n",
              "      <td>Sound_Guitar</td>\n",
              "      <td>0</td>\n",
              "    </tr>\n",
              "    <tr>\n",
              "      <th>2</th>\n",
              "      <td>1-E1-Major 02.wav</td>\n",
              "      <td>Sound_Guitar</td>\n",
              "      <td>0</td>\n",
              "    </tr>\n",
              "    <tr>\n",
              "      <th>3</th>\n",
              "      <td>1-E1-Major 03.wav</td>\n",
              "      <td>Sound_Guitar</td>\n",
              "      <td>0</td>\n",
              "    </tr>\n",
              "    <tr>\n",
              "      <th>4</th>\n",
              "      <td>1-E1-Major 04.wav</td>\n",
              "      <td>Sound_Guitar</td>\n",
              "      <td>0</td>\n",
              "    </tr>\n",
              "    <tr>\n",
              "      <th>...</th>\n",
              "      <td>...</td>\n",
              "      <td>...</td>\n",
              "      <td>...</td>\n",
              "    </tr>\n",
              "    <tr>\n",
              "      <th>2624</th>\n",
              "      <td>strange-piano-73881.wav</td>\n",
              "      <td>Sound_Piano</td>\n",
              "      <td>2</td>\n",
              "    </tr>\n",
              "    <tr>\n",
              "      <th>2625</th>\n",
              "      <td>the-last-piano-112677.wav</td>\n",
              "      <td>Sound_Piano</td>\n",
              "      <td>2</td>\n",
              "    </tr>\n",
              "    <tr>\n",
              "      <th>2626</th>\n",
              "      <td>this-is-war-version-e-95411.wav</td>\n",
              "      <td>Sound_Piano</td>\n",
              "      <td>2</td>\n",
              "    </tr>\n",
              "    <tr>\n",
              "      <th>2627</th>\n",
              "      <td>tired-ghosts-piano-65013.wav</td>\n",
              "      <td>Sound_Piano</td>\n",
              "      <td>2</td>\n",
              "    </tr>\n",
              "    <tr>\n",
              "      <th>2628</th>\n",
              "      <td>toy-piano-27311.wav</td>\n",
              "      <td>Sound_Piano</td>\n",
              "      <td>2</td>\n",
              "    </tr>\n",
              "  </tbody>\n",
              "</table>\n",
              "<p>2629 rows × 3 columns</p>\n",
              "</div>\n",
              "    <div class=\"colab-df-buttons\">\n",
              "\n",
              "  <div class=\"colab-df-container\">\n",
              "    <button class=\"colab-df-convert\" onclick=\"convertToInteractive('df-51b02ccd-b27f-44f6-a4f8-63ce92a52ede')\"\n",
              "            title=\"Convert this dataframe to an interactive table.\"\n",
              "            style=\"display:none;\">\n",
              "\n",
              "  <svg xmlns=\"http://www.w3.org/2000/svg\" height=\"24px\" viewBox=\"0 -960 960 960\">\n",
              "    <path d=\"M120-120v-720h720v720H120Zm60-500h600v-160H180v160Zm220 220h160v-160H400v160Zm0 220h160v-160H400v160ZM180-400h160v-160H180v160Zm440 0h160v-160H620v160ZM180-180h160v-160H180v160Zm440 0h160v-160H620v160Z\"/>\n",
              "  </svg>\n",
              "    </button>\n",
              "\n",
              "  <style>\n",
              "    .colab-df-container {\n",
              "      display:flex;\n",
              "      gap: 12px;\n",
              "    }\n",
              "\n",
              "    .colab-df-convert {\n",
              "      background-color: #E8F0FE;\n",
              "      border: none;\n",
              "      border-radius: 50%;\n",
              "      cursor: pointer;\n",
              "      display: none;\n",
              "      fill: #1967D2;\n",
              "      height: 32px;\n",
              "      padding: 0 0 0 0;\n",
              "      width: 32px;\n",
              "    }\n",
              "\n",
              "    .colab-df-convert:hover {\n",
              "      background-color: #E2EBFA;\n",
              "      box-shadow: 0px 1px 2px rgba(60, 64, 67, 0.3), 0px 1px 3px 1px rgba(60, 64, 67, 0.15);\n",
              "      fill: #174EA6;\n",
              "    }\n",
              "\n",
              "    .colab-df-buttons div {\n",
              "      margin-bottom: 4px;\n",
              "    }\n",
              "\n",
              "    [theme=dark] .colab-df-convert {\n",
              "      background-color: #3B4455;\n",
              "      fill: #D2E3FC;\n",
              "    }\n",
              "\n",
              "    [theme=dark] .colab-df-convert:hover {\n",
              "      background-color: #434B5C;\n",
              "      box-shadow: 0px 1px 3px 1px rgba(0, 0, 0, 0.15);\n",
              "      filter: drop-shadow(0px 1px 2px rgba(0, 0, 0, 0.3));\n",
              "      fill: #FFFFFF;\n",
              "    }\n",
              "  </style>\n",
              "\n",
              "    <script>\n",
              "      const buttonEl =\n",
              "        document.querySelector('#df-51b02ccd-b27f-44f6-a4f8-63ce92a52ede button.colab-df-convert');\n",
              "      buttonEl.style.display =\n",
              "        google.colab.kernel.accessAllowed ? 'block' : 'none';\n",
              "\n",
              "      async function convertToInteractive(key) {\n",
              "        const element = document.querySelector('#df-51b02ccd-b27f-44f6-a4f8-63ce92a52ede');\n",
              "        const dataTable =\n",
              "          await google.colab.kernel.invokeFunction('convertToInteractive',\n",
              "                                                    [key], {});\n",
              "        if (!dataTable) return;\n",
              "\n",
              "        const docLinkHtml = 'Like what you see? Visit the ' +\n",
              "          '<a target=\"_blank\" href=https://colab.research.google.com/notebooks/data_table.ipynb>data table notebook</a>'\n",
              "          + ' to learn more about interactive tables.';\n",
              "        element.innerHTML = '';\n",
              "        dataTable['output_type'] = 'display_data';\n",
              "        await google.colab.output.renderOutput(dataTable, element);\n",
              "        const docLink = document.createElement('div');\n",
              "        docLink.innerHTML = docLinkHtml;\n",
              "        element.appendChild(docLink);\n",
              "      }\n",
              "    </script>\n",
              "  </div>\n",
              "\n",
              "\n",
              "<div id=\"df-79faf9af-b41f-4447-b75b-39aab7123776\">\n",
              "  <button class=\"colab-df-quickchart\" onclick=\"quickchart('df-79faf9af-b41f-4447-b75b-39aab7123776')\"\n",
              "            title=\"Suggest charts\"\n",
              "            style=\"display:none;\">\n",
              "\n",
              "<svg xmlns=\"http://www.w3.org/2000/svg\" height=\"24px\"viewBox=\"0 0 24 24\"\n",
              "     width=\"24px\">\n",
              "    <g>\n",
              "        <path d=\"M19 3H5c-1.1 0-2 .9-2 2v14c0 1.1.9 2 2 2h14c1.1 0 2-.9 2-2V5c0-1.1-.9-2-2-2zM9 17H7v-7h2v7zm4 0h-2V7h2v10zm4 0h-2v-4h2v4z\"/>\n",
              "    </g>\n",
              "</svg>\n",
              "  </button>\n",
              "\n",
              "<style>\n",
              "  .colab-df-quickchart {\n",
              "      --bg-color: #E8F0FE;\n",
              "      --fill-color: #1967D2;\n",
              "      --hover-bg-color: #E2EBFA;\n",
              "      --hover-fill-color: #174EA6;\n",
              "      --disabled-fill-color: #AAA;\n",
              "      --disabled-bg-color: #DDD;\n",
              "  }\n",
              "\n",
              "  [theme=dark] .colab-df-quickchart {\n",
              "      --bg-color: #3B4455;\n",
              "      --fill-color: #D2E3FC;\n",
              "      --hover-bg-color: #434B5C;\n",
              "      --hover-fill-color: #FFFFFF;\n",
              "      --disabled-bg-color: #3B4455;\n",
              "      --disabled-fill-color: #666;\n",
              "  }\n",
              "\n",
              "  .colab-df-quickchart {\n",
              "    background-color: var(--bg-color);\n",
              "    border: none;\n",
              "    border-radius: 50%;\n",
              "    cursor: pointer;\n",
              "    display: none;\n",
              "    fill: var(--fill-color);\n",
              "    height: 32px;\n",
              "    padding: 0;\n",
              "    width: 32px;\n",
              "  }\n",
              "\n",
              "  .colab-df-quickchart:hover {\n",
              "    background-color: var(--hover-bg-color);\n",
              "    box-shadow: 0 1px 2px rgba(60, 64, 67, 0.3), 0 1px 3px 1px rgba(60, 64, 67, 0.15);\n",
              "    fill: var(--button-hover-fill-color);\n",
              "  }\n",
              "\n",
              "  .colab-df-quickchart-complete:disabled,\n",
              "  .colab-df-quickchart-complete:disabled:hover {\n",
              "    background-color: var(--disabled-bg-color);\n",
              "    fill: var(--disabled-fill-color);\n",
              "    box-shadow: none;\n",
              "  }\n",
              "\n",
              "  .colab-df-spinner {\n",
              "    border: 2px solid var(--fill-color);\n",
              "    border-color: transparent;\n",
              "    border-bottom-color: var(--fill-color);\n",
              "    animation:\n",
              "      spin 1s steps(1) infinite;\n",
              "  }\n",
              "\n",
              "  @keyframes spin {\n",
              "    0% {\n",
              "      border-color: transparent;\n",
              "      border-bottom-color: var(--fill-color);\n",
              "      border-left-color: var(--fill-color);\n",
              "    }\n",
              "    20% {\n",
              "      border-color: transparent;\n",
              "      border-left-color: var(--fill-color);\n",
              "      border-top-color: var(--fill-color);\n",
              "    }\n",
              "    30% {\n",
              "      border-color: transparent;\n",
              "      border-left-color: var(--fill-color);\n",
              "      border-top-color: var(--fill-color);\n",
              "      border-right-color: var(--fill-color);\n",
              "    }\n",
              "    40% {\n",
              "      border-color: transparent;\n",
              "      border-right-color: var(--fill-color);\n",
              "      border-top-color: var(--fill-color);\n",
              "    }\n",
              "    60% {\n",
              "      border-color: transparent;\n",
              "      border-right-color: var(--fill-color);\n",
              "    }\n",
              "    80% {\n",
              "      border-color: transparent;\n",
              "      border-right-color: var(--fill-color);\n",
              "      border-bottom-color: var(--fill-color);\n",
              "    }\n",
              "    90% {\n",
              "      border-color: transparent;\n",
              "      border-bottom-color: var(--fill-color);\n",
              "    }\n",
              "  }\n",
              "</style>\n",
              "\n",
              "  <script>\n",
              "    async function quickchart(key) {\n",
              "      const quickchartButtonEl =\n",
              "        document.querySelector('#' + key + ' button');\n",
              "      quickchartButtonEl.disabled = true;  // To prevent multiple clicks.\n",
              "      quickchartButtonEl.classList.add('colab-df-spinner');\n",
              "      try {\n",
              "        const charts = await google.colab.kernel.invokeFunction(\n",
              "            'suggestCharts', [key], {});\n",
              "      } catch (error) {\n",
              "        console.error('Error during call to suggestCharts:', error);\n",
              "      }\n",
              "      quickchartButtonEl.classList.remove('colab-df-spinner');\n",
              "      quickchartButtonEl.classList.add('colab-df-quickchart-complete');\n",
              "    }\n",
              "    (() => {\n",
              "      let quickchartButtonEl =\n",
              "        document.querySelector('#df-79faf9af-b41f-4447-b75b-39aab7123776 button');\n",
              "      quickchartButtonEl.style.display =\n",
              "        google.colab.kernel.accessAllowed ? 'block' : 'none';\n",
              "    })();\n",
              "  </script>\n",
              "</div>\n",
              "    </div>\n",
              "  </div>\n"
            ]
          },
          "metadata": {},
          "execution_count": 14
        }
      ]
    },
    {
      "cell_type": "markdown",
      "source": [
        "# 데이터 로드"
      ],
      "metadata": {
        "id": "kUSFaYlrUhQd"
      }
    },
    {
      "cell_type": "code",
      "source": [
        "from torch.utils.data import Dataset, DataLoader, Subset\n",
        "import torchaudio"
      ],
      "metadata": {
        "id": "6PhEg6dIU5RT"
      },
      "execution_count": null,
      "outputs": []
    },
    {
      "cell_type": "markdown",
      "source": [
        "## Hamoronic 시각화"
      ],
      "metadata": {
        "id": "KbM9sKJtjbA6"
      }
    },
    {
      "cell_type": "code",
      "source": [
        "def visualise_audio(wav: torch.Tensor, sr:int):\n",
        "    if wav.dim() == 2:\n",
        "        wav = wav.mean(dim = 0)\n",
        "    plt.figure(figsize= (20,5))\n",
        "    plt.plot(wav, alpha =.7, c='blue')\n",
        "    plt.grid()\n",
        "    plt.xlabel('Time', size = 20)\n",
        "    plt.ylabel('Amplitude', size = 20)\n",
        "    plt.show()"
      ],
      "metadata": {
        "id": "iQvRXzg3UtkY"
      },
      "execution_count": null,
      "outputs": []
    },
    {
      "cell_type": "code",
      "source": [
        "class MusicDataset(Dataset):\n",
        "    SR = 44100\n",
        "\n",
        "    def __init__(self, df):\n",
        "        self.df = df\n",
        "\n",
        "    def __len__(self):\n",
        "        return len(self.df)\n",
        "\n",
        "    def __getitem__(self, idx):\n",
        "        directory = 'Train_submission/Train_submission'\n",
        "        filename = directory + '/' + self.df.iloc[idx]['FileName']\n",
        "        instrument = self.df.iloc[idx]['Class']\n",
        "\n",
        "        audio_data, sr = torchaudio.load(filename)\n",
        "        if audio_data.shape[0] > 1:\n",
        "            audio_data = audio_data.mean(dim=0, keepdim=True)\n",
        "\n",
        "        instrument_label = instrument\n",
        "        SR = sr\n",
        "        return audio_data, instrument_label"
      ],
      "metadata": {
        "id": "24geCkEXUuC2"
      },
      "execution_count": null,
      "outputs": []
    },
    {
      "cell_type": "code",
      "source": [
        "dataset = MusicDataset(df)"
      ],
      "metadata": {
        "id": "w2ksRE3hU4oC"
      },
      "execution_count": null,
      "outputs": []
    },
    {
      "cell_type": "code",
      "source": [
        "waw, label = dataset[2627]\n",
        "label"
      ],
      "metadata": {
        "colab": {
          "base_uri": "https://localhost:8080/",
          "height": 35
        },
        "id": "onwAwLEeU-iJ",
        "outputId": "c8184ae2-b2c8-4ea7-ebba-c88635294d71"
      },
      "execution_count": null,
      "outputs": [
        {
          "output_type": "execute_result",
          "data": {
            "text/plain": [
              "'Sound_Piano'"
            ],
            "application/vnd.google.colaboratory.intrinsic+json": {
              "type": "string"
            }
          },
          "metadata": {},
          "execution_count": 19
        }
      ]
    },
    {
      "cell_type": "code",
      "source": [
        "waw.shape"
      ],
      "metadata": {
        "colab": {
          "base_uri": "https://localhost:8080/"
        },
        "id": "rmAv9EbJVFf2",
        "outputId": "2980fcc4-e00b-4abf-e81e-ba582c143799"
      },
      "execution_count": null,
      "outputs": [
        {
          "output_type": "execute_result",
          "data": {
            "text/plain": [
              "torch.Size([1, 1117440])"
            ]
          },
          "metadata": {},
          "execution_count": 20
        }
      ]
    },
    {
      "cell_type": "code",
      "source": [
        "visualise_audio(waw, sr = dataset.SR)"
      ],
      "metadata": {
        "colab": {
          "base_uri": "https://localhost:8080/",
          "height": 249
        },
        "id": "oCNrXyknVG0n",
        "outputId": "83a963b8-4713-4a56-a72a-cbf69eaa852e"
      },
      "execution_count": null,
      "outputs": [
        {
          "output_type": "display_data",
          "data": {
            "text/plain": [
              "<Figure size 2000x500 with 1 Axes>"
            ],
            "image/png": "[encoded data removed]"
          },
          "metadata": {}
        }
      ]
    },
    {
      "cell_type": "code",
      "source": [],
      "metadata": {
        "id": "PHQvRJtp_k0c"
      },
      "execution_count": null,
      "outputs": []
    },
    {
      "cell_type": "markdown",
      "source": [
        "### Mel 값으로 변환하기"
      ],
      "metadata": {
        "id": "jxyIJX5zjsEA"
      }
    },
    {
      "cell_type": "code",
      "source": [
        "from pathlib import Path\n",
        "import torchaudio\n",
        "\n",
        "def load_data():\n",
        "    file_list = []\n",
        "    sample_list = []\n",
        "    for file in Path('').glob('*_submission/*_submission/*.wav'):\n",
        "        sample_name = file.stem + '.wav' #re.match(r\"(\\d+)\", file.stem).group(0)\n",
        "        file_list.append(file)\n",
        "        sample_list.append(str(sample_name))\n",
        "    dd = pd.DataFrame()\n",
        "    dd['file'] = file_list\n",
        "    dd['FileName'] = sample_list\n",
        "    return dd"
      ],
      "metadata": {
        "id": "uBIDSJ34_9gw"
      },
      "execution_count": null,
      "outputs": []
    },
    {
      "cell_type": "code",
      "source": [
        "dd = load_data()\n",
        "dd = dd.set_index('FileName').join(df.set_index('FileName'), how='inner')\n",
        "dd = dd[dd['Class'].isin(labels)]\n",
        "dd['label'] = dd['Class'].apply(lambda x: label2id[x])\n",
        "selected_cols = ['file', 'label', 'Class']\n",
        "dd = dd[selected_cols]\n",
        "dd.sample(5).T"
      ],
      "metadata": {
        "colab": {
          "base_uri": "https://localhost:8080/",
          "height": 163
        },
        "id": "fMCOTNjwARDS",
        "outputId": "90fb487e-9f50-447c-e767-8673017af49e"
      },
      "execution_count": null,
      "outputs": [
        {
          "output_type": "execute_result",
          "data": {
            "text/plain": [
              "FileName                           RealDrum01_03HHtrain.wav  \\\n",
              "file      Train_submission/Train_submission/RealDrum01_0...   \n",
              "label                                                     1   \n",
              "Class                                            Sound_Drum   \n",
              "\n",
              "FileName                                 FS_G_V_bending.wav  \\\n",
              "file      Train_submission/Train_submission/FS_G_V_bendi...   \n",
              "label                                                     0   \n",
              "Class                                          Sound_Guitar   \n",
              "\n",
              "FileName                                 metal_3_135BPM.wav  \\\n",
              "file      Train_submission/Train_submission/metal_3_135B...   \n",
              "label                                                     0   \n",
              "Class                                          Sound_Guitar   \n",
              "\n",
              "FileName               ROOM_room6_MUS_joplin_DEV_amazon.wav  \\\n",
              "file      Train_submission/Train_submission/ROOM_room6_M...   \n",
              "label                                                     2   \n",
              "Class                                           Sound_Piano   \n",
              "\n",
              "FileName                           WaveDrum02_43HH (47).wav  \n",
              "file      Train_submission/Train_submission/WaveDrum02_4...  \n",
              "label                                                     3  \n",
              "Class                                          Sound_Violin  "
            ],
            "text/html": [
              "\n",
              "  <div id=\"df-ce054f1e-3811-4d47-b5ae-a8ab30631070\" class=\"colab-df-container\">\n",
              "    <div>\n",
              "<style scoped>\n",
              "    .dataframe tbody tr th:only-of-type {\n",
              "        vertical-align: middle;\n",
              "    }\n",
              "\n",
              "    .dataframe tbody tr th {\n",
              "        vertical-align: top;\n",
              "    }\n",
              "\n",
              "    .dataframe thead th {\n",
              "        text-align: right;\n",
              "    }\n",
              "</style>\n",
              "<table border=\"1\" class=\"dataframe\">\n",
              "  <thead>\n",
              "    <tr style=\"text-align: right;\">\n",
              "      <th>FileName</th>\n",
              "      <th>RealDrum01_03HHtrain.wav</th>\n",
              "      <th>FS_G_V_bending.wav</th>\n",
              "      <th>metal_3_135BPM.wav</th>\n",
              "      <th>ROOM_room6_MUS_joplin_DEV_amazon.wav</th>\n",
              "      <th>WaveDrum02_43HH (47).wav</th>\n",
              "    </tr>\n",
              "  </thead>\n",
              "  <tbody>\n",
              "    <tr>\n",
              "      <th>file</th>\n",
              "      <td>Train_submission/Train_submission/RealDrum01_0...</td>\n",
              "      <td>Train_submission/Train_submission/FS_G_V_bendi...</td>\n",
              "      <td>Train_submission/Train_submission/metal_3_135B...</td>\n",
              "      <td>Train_submission/Train_submission/ROOM_room6_M...</td>\n",
              "      <td>Train_submission/Train_submission/WaveDrum02_4...</td>\n",
              "    </tr>\n",
              "    <tr>\n",
              "      <th>label</th>\n",
              "      <td>1</td>\n",
              "      <td>0</td>\n",
              "      <td>0</td>\n",
              "      <td>2</td>\n",
              "      <td>3</td>\n",
              "    </tr>\n",
              "    <tr>\n",
              "      <th>Class</th>\n",
              "      <td>Sound_Drum</td>\n",
              "      <td>Sound_Guitar</td>\n",
              "      <td>Sound_Guitar</td>\n",
              "      <td>Sound_Piano</td>\n",
              "      <td>Sound_Violin</td>\n",
              "    </tr>\n",
              "  </tbody>\n",
              "</table>\n",
              "</div>\n",
              "    <div class=\"colab-df-buttons\">\n",
              "\n",
              "  <div class=\"colab-df-container\">\n",
              "    <button class=\"colab-df-convert\" onclick=\"convertToInteractive('df-ce054f1e-3811-4d47-b5ae-a8ab30631070')\"\n",
              "            title=\"Convert this dataframe to an interactive table.\"\n",
              "            style=\"display:none;\">\n",
              "\n",
              "  <svg xmlns=\"http://www.w3.org/2000/svg\" height=\"24px\" viewBox=\"0 -960 960 960\">\n",
              "    <path d=\"M120-120v-720h720v720H120Zm60-500h600v-160H180v160Zm220 220h160v-160H400v160Zm0 220h160v-160H400v160ZM180-400h160v-160H180v160Zm440 0h160v-160H620v160ZM180-180h160v-160H180v160Zm440 0h160v-160H620v160Z\"/>\n",
              "  </svg>\n",
              "    </button>\n",
              "\n",
              "  <style>\n",
              "    .colab-df-container {\n",
              "      display:flex;\n",
              "      gap: 12px;\n",
              "    }\n",
              "\n",
              "    .colab-df-convert {\n",
              "      background-color: #E8F0FE;\n",
              "      border: none;\n",
              "      border-radius: 50%;\n",
              "      cursor: pointer;\n",
              "      display: none;\n",
              "      fill: #1967D2;\n",
              "      height: 32px;\n",
              "      padding: 0 0 0 0;\n",
              "      width: 32px;\n",
              "    }\n",
              "\n",
              "    .colab-df-convert:hover {\n",
              "      background-color: #E2EBFA;\n",
              "      box-shadow: 0px 1px 2px rgba(60, 64, 67, 0.3), 0px 1px 3px 1px rgba(60, 64, 67, 0.15);\n",
              "      fill: #174EA6;\n",
              "    }\n",
              "\n",
              "    .colab-df-buttons div {\n",
              "      margin-bottom: 4px;\n",
              "    }\n",
              "\n",
              "    [theme=dark] .colab-df-convert {\n",
              "      background-color: #3B4455;\n",
              "      fill: #D2E3FC;\n",
              "    }\n",
              "\n",
              "    [theme=dark] .colab-df-convert:hover {\n",
              "      background-color: #434B5C;\n",
              "      box-shadow: 0px 1px 3px 1px rgba(0, 0, 0, 0.15);\n",
              "      filter: drop-shadow(0px 1px 2px rgba(0, 0, 0, 0.3));\n",
              "      fill: #FFFFFF;\n",
              "    }\n",
              "  </style>\n",
              "\n",
              "    <script>\n",
              "      const buttonEl =\n",
              "        document.querySelector('#df-ce054f1e-3811-4d47-b5ae-a8ab30631070 button.colab-df-convert');\n",
              "      buttonEl.style.display =\n",
              "        google.colab.kernel.accessAllowed ? 'block' : 'none';\n",
              "\n",
              "      async function convertToInteractive(key) {\n",
              "        const element = document.querySelector('#df-ce054f1e-3811-4d47-b5ae-a8ab30631070');\n",
              "        const dataTable =\n",
              "          await google.colab.kernel.invokeFunction('convertToInteractive',\n",
              "                                                    [key], {});\n",
              "        if (!dataTable) return;\n",
              "\n",
              "        const docLinkHtml = 'Like what you see? Visit the ' +\n",
              "          '<a target=\"_blank\" href=https://colab.research.google.com/notebooks/data_table.ipynb>data table notebook</a>'\n",
              "          + ' to learn more about interactive tables.';\n",
              "        element.innerHTML = '';\n",
              "        dataTable['output_type'] = 'display_data';\n",
              "        await google.colab.output.renderOutput(dataTable, element);\n",
              "        const docLink = document.createElement('div');\n",
              "        docLink.innerHTML = docLinkHtml;\n",
              "        element.appendChild(docLink);\n",
              "      }\n",
              "    </script>\n",
              "  </div>\n",
              "\n",
              "\n",
              "<div id=\"df-39715bc8-ad28-4ea3-b180-ba76d566d1bb\">\n",
              "  <button class=\"colab-df-quickchart\" onclick=\"quickchart('df-39715bc8-ad28-4ea3-b180-ba76d566d1bb')\"\n",
              "            title=\"Suggest charts\"\n",
              "            style=\"display:none;\">\n",
              "\n",
              "<svg xmlns=\"http://www.w3.org/2000/svg\" height=\"24px\"viewBox=\"0 0 24 24\"\n",
              "     width=\"24px\">\n",
              "    <g>\n",
              "        <path d=\"M19 3H5c-1.1 0-2 .9-2 2v14c0 1.1.9 2 2 2h14c1.1 0 2-.9 2-2V5c0-1.1-.9-2-2-2zM9 17H7v-7h2v7zm4 0h-2V7h2v10zm4 0h-2v-4h2v4z\"/>\n",
              "    </g>\n",
              "</svg>\n",
              "  </button>\n",
              "\n",
              "<style>\n",
              "  .colab-df-quickchart {\n",
              "      --bg-color: #E8F0FE;\n",
              "      --fill-color: #1967D2;\n",
              "      --hover-bg-color: #E2EBFA;\n",
              "      --hover-fill-color: #174EA6;\n",
              "      --disabled-fill-color: #AAA;\n",
              "      --disabled-bg-color: #DDD;\n",
              "  }\n",
              "\n",
              "  [theme=dark] .colab-df-quickchart {\n",
              "      --bg-color: #3B4455;\n",
              "      --fill-color: #D2E3FC;\n",
              "      --hover-bg-color: #434B5C;\n",
              "      --hover-fill-color: #FFFFFF;\n",
              "      --disabled-bg-color: #3B4455;\n",
              "      --disabled-fill-color: #666;\n",
              "  }\n",
              "\n",
              "  .colab-df-quickchart {\n",
              "    background-color: var(--bg-color);\n",
              "    border: none;\n",
              "    border-radius: 50%;\n",
              "    cursor: pointer;\n",
              "    display: none;\n",
              "    fill: var(--fill-color);\n",
              "    height: 32px;\n",
              "    padding: 0;\n",
              "    width: 32px;\n",
              "  }\n",
              "\n",
              "  .colab-df-quickchart:hover {\n",
              "    background-color: var(--hover-bg-color);\n",
              "    box-shadow: 0 1px 2px rgba(60, 64, 67, 0.3), 0 1px 3px 1px rgba(60, 64, 67, 0.15);\n",
              "    fill: var(--button-hover-fill-color);\n",
              "  }\n",
              "\n",
              "  .colab-df-quickchart-complete:disabled,\n",
              "  .colab-df-quickchart-complete:disabled:hover {\n",
              "    background-color: var(--disabled-bg-color);\n",
              "    fill: var(--disabled-fill-color);\n",
              "    box-shadow: none;\n",
              "  }\n",
              "\n",
              "  .colab-df-spinner {\n",
              "    border: 2px solid var(--fill-color);\n",
              "    border-color: transparent;\n",
              "    border-bottom-color: var(--fill-color);\n",
              "    animation:\n",
              "      spin 1s steps(1) infinite;\n",
              "  }\n",
              "\n",
              "  @keyframes spin {\n",
              "    0% {\n",
              "      border-color: transparent;\n",
              "      border-bottom-color: var(--fill-color);\n",
              "      border-left-color: var(--fill-color);\n",
              "    }\n",
              "    20% {\n",
              "      border-color: transparent;\n",
              "      border-left-color: var(--fill-color);\n",
              "      border-top-color: var(--fill-color);\n",
              "    }\n",
              "    30% {\n",
              "      border-color: transparent;\n",
              "      border-left-color: var(--fill-color);\n",
              "      border-top-color: var(--fill-color);\n",
              "      border-right-color: var(--fill-color);\n",
              "    }\n",
              "    40% {\n",
              "      border-color: transparent;\n",
              "      border-right-color: var(--fill-color);\n",
              "      border-top-color: var(--fill-color);\n",
              "    }\n",
              "    60% {\n",
              "      border-color: transparent;\n",
              "      border-right-color: var(--fill-color);\n",
              "    }\n",
              "    80% {\n",
              "      border-color: transparent;\n",
              "      border-right-color: var(--fill-color);\n",
              "      border-bottom-color: var(--fill-color);\n",
              "    }\n",
              "    90% {\n",
              "      border-color: transparent;\n",
              "      border-bottom-color: var(--fill-color);\n",
              "    }\n",
              "  }\n",
              "</style>\n",
              "\n",
              "  <script>\n",
              "    async function quickchart(key) {\n",
              "      const quickchartButtonEl =\n",
              "        document.querySelector('#' + key + ' button');\n",
              "      quickchartButtonEl.disabled = true;  // To prevent multiple clicks.\n",
              "      quickchartButtonEl.classList.add('colab-df-spinner');\n",
              "      try {\n",
              "        const charts = await google.colab.kernel.invokeFunction(\n",
              "            'suggestCharts', [key], {});\n",
              "      } catch (error) {\n",
              "        console.error('Error during call to suggestCharts:', error);\n",
              "      }\n",
              "      quickchartButtonEl.classList.remove('colab-df-spinner');\n",
              "      quickchartButtonEl.classList.add('colab-df-quickchart-complete');\n",
              "    }\n",
              "    (() => {\n",
              "      let quickchartButtonEl =\n",
              "        document.querySelector('#df-39715bc8-ad28-4ea3-b180-ba76d566d1bb button');\n",
              "      quickchartButtonEl.style.display =\n",
              "        google.colab.kernel.accessAllowed ? 'block' : 'none';\n",
              "    })();\n",
              "  </script>\n",
              "</div>\n",
              "    </div>\n",
              "  </div>\n"
            ]
          },
          "metadata": {},
          "execution_count": 90
        }
      ]
    },
    {
      "cell_type": "code",
      "source": [
        "dd = dd.reset_index(drop=True)\n",
        "dd.head()"
      ],
      "metadata": {
        "colab": {
          "base_uri": "https://localhost:8080/",
          "height": 206
        },
        "id": "yyvW9C7CAZU-",
        "outputId": "b6b76bde-a1f4-4653-82be-8ed093517da1"
      },
      "execution_count": null,
      "outputs": [
        {
          "output_type": "execute_result",
          "data": {
            "text/plain": [
              "                                                file  label         Class\n",
              "0  Train_submission/Train_submission/029500_morni...      2   Sound_Piano\n",
              "1  Train_submission/Train_submission/035568_uprig...      2   Sound_Piano\n",
              "2     Train_submission/Train_submission/04-47367.wav      1    Sound_Drum\n",
              "3     Train_submission/Train_submission/04-47367.wav      3  Sound_Violin\n",
              "4  Train_submission/Train_submission/046578_triba...      1    Sound_Drum"
            ],
            "text/html": [
              "\n",
              "  <div id=\"df-dcdaed81-6544-4c69-be93-bfddca8f05f1\" class=\"colab-df-container\">\n",
              "    <div>\n",
              "<style scoped>\n",
              "    .dataframe tbody tr th:only-of-type {\n",
              "        vertical-align: middle;\n",
              "    }\n",
              "\n",
              "    .dataframe tbody tr th {\n",
              "        vertical-align: top;\n",
              "    }\n",
              "\n",
              "    .dataframe thead th {\n",
              "        text-align: right;\n",
              "    }\n",
              "</style>\n",
              "<table border=\"1\" class=\"dataframe\">\n",
              "  <thead>\n",
              "    <tr style=\"text-align: right;\">\n",
              "      <th></th>\n",
              "      <th>file</th>\n",
              "      <th>label</th>\n",
              "      <th>Class</th>\n",
              "    </tr>\n",
              "  </thead>\n",
              "  <tbody>\n",
              "    <tr>\n",
              "      <th>0</th>\n",
              "      <td>Train_submission/Train_submission/029500_morni...</td>\n",
              "      <td>2</td>\n",
              "      <td>Sound_Piano</td>\n",
              "    </tr>\n",
              "    <tr>\n",
              "      <th>1</th>\n",
              "      <td>Train_submission/Train_submission/035568_uprig...</td>\n",
              "      <td>2</td>\n",
              "      <td>Sound_Piano</td>\n",
              "    </tr>\n",
              "    <tr>\n",
              "      <th>2</th>\n",
              "      <td>Train_submission/Train_submission/04-47367.wav</td>\n",
              "      <td>1</td>\n",
              "      <td>Sound_Drum</td>\n",
              "    </tr>\n",
              "    <tr>\n",
              "      <th>3</th>\n",
              "      <td>Train_submission/Train_submission/04-47367.wav</td>\n",
              "      <td>3</td>\n",
              "      <td>Sound_Violin</td>\n",
              "    </tr>\n",
              "    <tr>\n",
              "      <th>4</th>\n",
              "      <td>Train_submission/Train_submission/046578_triba...</td>\n",
              "      <td>1</td>\n",
              "      <td>Sound_Drum</td>\n",
              "    </tr>\n",
              "  </tbody>\n",
              "</table>\n",
              "</div>\n",
              "    <div class=\"colab-df-buttons\">\n",
              "\n",
              "  <div class=\"colab-df-container\">\n",
              "    <button class=\"colab-df-convert\" onclick=\"convertToInteractive('df-dcdaed81-6544-4c69-be93-bfddca8f05f1')\"\n",
              "            title=\"Convert this dataframe to an interactive table.\"\n",
              "            style=\"display:none;\">\n",
              "\n",
              "  <svg xmlns=\"http://www.w3.org/2000/svg\" height=\"24px\" viewBox=\"0 -960 960 960\">\n",
              "    <path d=\"M120-120v-720h720v720H120Zm60-500h600v-160H180v160Zm220 220h160v-160H400v160Zm0 220h160v-160H400v160ZM180-400h160v-160H180v160Zm440 0h160v-160H620v160ZM180-180h160v-160H180v160Zm440 0h160v-160H620v160Z\"/>\n",
              "  </svg>\n",
              "    </button>\n",
              "\n",
              "  <style>\n",
              "    .colab-df-container {\n",
              "      display:flex;\n",
              "      gap: 12px;\n",
              "    }\n",
              "\n",
              "    .colab-df-convert {\n",
              "      background-color: #E8F0FE;\n",
              "      border: none;\n",
              "      border-radius: 50%;\n",
              "      cursor: pointer;\n",
              "      display: none;\n",
              "      fill: #1967D2;\n",
              "      height: 32px;\n",
              "      padding: 0 0 0 0;\n",
              "      width: 32px;\n",
              "    }\n",
              "\n",
              "    .colab-df-convert:hover {\n",
              "      background-color: #E2EBFA;\n",
              "      box-shadow: 0px 1px 2px rgba(60, 64, 67, 0.3), 0px 1px 3px 1px rgba(60, 64, 67, 0.15);\n",
              "      fill: #174EA6;\n",
              "    }\n",
              "\n",
              "    .colab-df-buttons div {\n",
              "      margin-bottom: 4px;\n",
              "    }\n",
              "\n",
              "    [theme=dark] .colab-df-convert {\n",
              "      background-color: #3B4455;\n",
              "      fill: #D2E3FC;\n",
              "    }\n",
              "\n",
              "    [theme=dark] .colab-df-convert:hover {\n",
              "      background-color: #434B5C;\n",
              "      box-shadow: 0px 1px 3px 1px rgba(0, 0, 0, 0.15);\n",
              "      filter: drop-shadow(0px 1px 2px rgba(0, 0, 0, 0.3));\n",
              "      fill: #FFFFFF;\n",
              "    }\n",
              "  </style>\n",
              "\n",
              "    <script>\n",
              "      const buttonEl =\n",
              "        document.querySelector('#df-dcdaed81-6544-4c69-be93-bfddca8f05f1 button.colab-df-convert');\n",
              "      buttonEl.style.display =\n",
              "        google.colab.kernel.accessAllowed ? 'block' : 'none';\n",
              "\n",
              "      async function convertToInteractive(key) {\n",
              "        const element = document.querySelector('#df-dcdaed81-6544-4c69-be93-bfddca8f05f1');\n",
              "        const dataTable =\n",
              "          await google.colab.kernel.invokeFunction('convertToInteractive',\n",
              "                                                    [key], {});\n",
              "        if (!dataTable) return;\n",
              "\n",
              "        const docLinkHtml = 'Like what you see? Visit the ' +\n",
              "          '<a target=\"_blank\" href=https://colab.research.google.com/notebooks/data_table.ipynb>data table notebook</a>'\n",
              "          + ' to learn more about interactive tables.';\n",
              "        element.innerHTML = '';\n",
              "        dataTable['output_type'] = 'display_data';\n",
              "        await google.colab.output.renderOutput(dataTable, element);\n",
              "        const docLink = document.createElement('div');\n",
              "        docLink.innerHTML = docLinkHtml;\n",
              "        element.appendChild(docLink);\n",
              "      }\n",
              "    </script>\n",
              "  </div>\n",
              "\n",
              "\n",
              "<div id=\"df-26d269c1-5f3e-4b7e-9369-32b678625b07\">\n",
              "  <button class=\"colab-df-quickchart\" onclick=\"quickchart('df-26d269c1-5f3e-4b7e-9369-32b678625b07')\"\n",
              "            title=\"Suggest charts\"\n",
              "            style=\"display:none;\">\n",
              "\n",
              "<svg xmlns=\"http://www.w3.org/2000/svg\" height=\"24px\"viewBox=\"0 0 24 24\"\n",
              "     width=\"24px\">\n",
              "    <g>\n",
              "        <path d=\"M19 3H5c-1.1 0-2 .9-2 2v14c0 1.1.9 2 2 2h14c1.1 0 2-.9 2-2V5c0-1.1-.9-2-2-2zM9 17H7v-7h2v7zm4 0h-2V7h2v10zm4 0h-2v-4h2v4z\"/>\n",
              "    </g>\n",
              "</svg>\n",
              "  </button>\n",
              "\n",
              "<style>\n",
              "  .colab-df-quickchart {\n",
              "      --bg-color: #E8F0FE;\n",
              "      --fill-color: #1967D2;\n",
              "      --hover-bg-color: #E2EBFA;\n",
              "      --hover-fill-color: #174EA6;\n",
              "      --disabled-fill-color: #AAA;\n",
              "      --disabled-bg-color: #DDD;\n",
              "  }\n",
              "\n",
              "  [theme=dark] .colab-df-quickchart {\n",
              "      --bg-color: #3B4455;\n",
              "      --fill-color: #D2E3FC;\n",
              "      --hover-bg-color: #434B5C;\n",
              "      --hover-fill-color: #FFFFFF;\n",
              "      --disabled-bg-color: #3B4455;\n",
              "      --disabled-fill-color: #666;\n",
              "  }\n",
              "\n",
              "  .colab-df-quickchart {\n",
              "    background-color: var(--bg-color);\n",
              "    border: none;\n",
              "    border-radius: 50%;\n",
              "    cursor: pointer;\n",
              "    display: none;\n",
              "    fill: var(--fill-color);\n",
              "    height: 32px;\n",
              "    padding: 0;\n",
              "    width: 32px;\n",
              "  }\n",
              "\n",
              "  .colab-df-quickchart:hover {\n",
              "    background-color: var(--hover-bg-color);\n",
              "    box-shadow: 0 1px 2px rgba(60, 64, 67, 0.3), 0 1px 3px 1px rgba(60, 64, 67, 0.15);\n",
              "    fill: var(--button-hover-fill-color);\n",
              "  }\n",
              "\n",
              "  .colab-df-quickchart-complete:disabled,\n",
              "  .colab-df-quickchart-complete:disabled:hover {\n",
              "    background-color: var(--disabled-bg-color);\n",
              "    fill: var(--disabled-fill-color);\n",
              "    box-shadow: none;\n",
              "  }\n",
              "\n",
              "  .colab-df-spinner {\n",
              "    border: 2px solid var(--fill-color);\n",
              "    border-color: transparent;\n",
              "    border-bottom-color: var(--fill-color);\n",
              "    animation:\n",
              "      spin 1s steps(1) infinite;\n",
              "  }\n",
              "\n",
              "  @keyframes spin {\n",
              "    0% {\n",
              "      border-color: transparent;\n",
              "      border-bottom-color: var(--fill-color);\n",
              "      border-left-color: var(--fill-color);\n",
              "    }\n",
              "    20% {\n",
              "      border-color: transparent;\n",
              "      border-left-color: var(--fill-color);\n",
              "      border-top-color: var(--fill-color);\n",
              "    }\n",
              "    30% {\n",
              "      border-color: transparent;\n",
              "      border-left-color: var(--fill-color);\n",
              "      border-top-color: var(--fill-color);\n",
              "      border-right-color: var(--fill-color);\n",
              "    }\n",
              "    40% {\n",
              "      border-color: transparent;\n",
              "      border-right-color: var(--fill-color);\n",
              "      border-top-color: var(--fill-color);\n",
              "    }\n",
              "    60% {\n",
              "      border-color: transparent;\n",
              "      border-right-color: var(--fill-color);\n",
              "    }\n",
              "    80% {\n",
              "      border-color: transparent;\n",
              "      border-right-color: var(--fill-color);\n",
              "      border-bottom-color: var(--fill-color);\n",
              "    }\n",
              "    90% {\n",
              "      border-color: transparent;\n",
              "      border-bottom-color: var(--fill-color);\n",
              "    }\n",
              "  }\n",
              "</style>\n",
              "\n",
              "  <script>\n",
              "    async function quickchart(key) {\n",
              "      const quickchartButtonEl =\n",
              "        document.querySelector('#' + key + ' button');\n",
              "      quickchartButtonEl.disabled = true;  // To prevent multiple clicks.\n",
              "      quickchartButtonEl.classList.add('colab-df-spinner');\n",
              "      try {\n",
              "        const charts = await google.colab.kernel.invokeFunction(\n",
              "            'suggestCharts', [key], {});\n",
              "      } catch (error) {\n",
              "        console.error('Error during call to suggestCharts:', error);\n",
              "      }\n",
              "      quickchartButtonEl.classList.remove('colab-df-spinner');\n",
              "      quickchartButtonEl.classList.add('colab-df-quickchart-complete');\n",
              "    }\n",
              "    (() => {\n",
              "      let quickchartButtonEl =\n",
              "        document.querySelector('#df-26d269c1-5f3e-4b7e-9369-32b678625b07 button');\n",
              "      quickchartButtonEl.style.display =\n",
              "        google.colab.kernel.accessAllowed ? 'block' : 'none';\n",
              "    })();\n",
              "  </script>\n",
              "</div>\n",
              "    </div>\n",
              "  </div>\n"
            ]
          },
          "metadata": {},
          "execution_count": 91
        }
      ]
    },
    {
      "cell_type": "code",
      "source": [
        "def Feature_extractor(file_path):\n",
        "    # 음악 파일 로드, 해당 파일의 오디오 데이터와 샘플링 속도 반환\n",
        "    audio, sample_rate = librosa.load(str(file_path), res_type='kaiser_fast')\n",
        "    mfccs_features = librosa.feature.mfcc(y=audio, sr=sample_rate, n_mfcc=40)\n",
        "    mfccs_scaled_features = np.mean(mfccs_features.T, axis=0)\n",
        "    # 정규화된 MFCC 특징 반환\n",
        "    return mfccs_scaled_features,sample_rate"
      ],
      "metadata": {
        "id": "4KR_KS0Yi4BC"
      },
      "execution_count": null,
      "outputs": []
    },
    {
      "cell_type": "code",
      "source": [
        "extracted_features=[]\n",
        "extracted_rate = []\n",
        "for index,row in tqdm(dd.iterrows()):\n",
        "    file_path = row['file']\n",
        "    final_class_label = row['Class']  # Assuming 'Class' is the column containing class labels\n",
        "    data, sr=Feature_extractor(file_path)\n",
        "    extracted_features.append([data])\n",
        "    extracted_rate.append(sr)"
      ],
      "metadata": {
        "colab": {
          "base_uri": "https://localhost:8080/"
        },
        "id": "rCii-v8VD8pf",
        "outputId": "fa359ad2-dd43-48d4-b20f-9eec49e7637a"
      },
      "execution_count": null,
      "outputs": [
        {
          "output_type": "stream",
          "name": "stderr",
          "text": [
            "2629it [13:12,  3.32it/s]\n"
          ]
        }
      ]
    },
    {
      "cell_type": "code",
      "source": [
        "dd['feature']=extracted_features"
      ],
      "metadata": {
        "id": "Grd_gRefO_vI"
      },
      "execution_count": null,
      "outputs": []
    },
    {
      "cell_type": "code",
      "source": [
        "extracted_rate"
      ],
      "metadata": {
        "id": "1oRhz68Hper4"
      },
      "execution_count": null,
      "outputs": []
    },
    {
      "cell_type": "code",
      "source": [
        "dd"
      ],
      "metadata": {
        "colab": {
          "base_uri": "https://localhost:8080/",
          "height": 597
        },
        "id": "dJIyPXgjIKxm",
        "outputId": "adafb408-2021-4429-eb4f-089946347f0b"
      },
      "execution_count": null,
      "outputs": [
        {
          "output_type": "execute_result",
          "data": {
            "text/plain": [
              "                                                   file  label         Class  \\\n",
              "0     Train_submission/Train_submission/029500_morni...      2   Sound_Piano   \n",
              "1     Train_submission/Train_submission/035568_uprig...      2   Sound_Piano   \n",
              "2        Train_submission/Train_submission/04-47367.wav      1    Sound_Drum   \n",
              "3        Train_submission/Train_submission/04-47367.wav      3  Sound_Violin   \n",
              "4     Train_submission/Train_submission/046578_triba...      1    Sound_Drum   \n",
              "...                                                 ...    ...           ...   \n",
              "2624  Train_submission/Train_submission/strange-pian...      2   Sound_Piano   \n",
              "2625  Train_submission/Train_submission/the-last-pia...      2   Sound_Piano   \n",
              "2626  Train_submission/Train_submission/this-is-war-...      2   Sound_Piano   \n",
              "2627  Train_submission/Train_submission/tired-ghosts...      2   Sound_Piano   \n",
              "2628  Train_submission/Train_submission/toy-piano-27...      2   Sound_Piano   \n",
              "\n",
              "                                                feature  \n",
              "0     [[-391.31836, 167.01129, 11.016864, 2.181573, ...  \n",
              "1     [[-649.3114, 102.29075, 52.36694, 19.935278, 8...  \n",
              "2     [[-122.803505, 66.70081, -15.50937, 25.863022,...  \n",
              "3     [[-122.803505, 66.70081, -15.50937, 25.863022,...  \n",
              "4     [[-124.61078, 46.562347, 53.75595, 67.478966, ...  \n",
              "...                                                 ...  \n",
              "2624  [[-340.2557, 139.22214, -60.47418, 31.721258, ...  \n",
              "2625  [[-369.50864, 226.44633, -21.799685, -10.73569...  \n",
              "2626  [[-355.62, 168.70683, 15.937247, 8.451197, 13....  \n",
              "2627  [[-624.9958, 124.9852, 62.212925, 22.685425, 1...  \n",
              "2628  [[-607.02466, 70.27457, 2.2590735, 4.4636903, ...  \n",
              "\n",
              "[2629 rows x 4 columns]"
            ],
            "text/html": [
              "\n",
              "  <div id=\"df-ab0000bc-a9c5-4f51-b5e4-9b5e7a161832\" class=\"colab-df-container\">\n",
              "    <div>\n",
              "<style scoped>\n",
              "    .dataframe tbody tr th:only-of-type {\n",
              "        vertical-align: middle;\n",
              "    }\n",
              "\n",
              "    .dataframe tbody tr th {\n",
              "        vertical-align: top;\n",
              "    }\n",
              "\n",
              "    .dataframe thead th {\n",
              "        text-align: right;\n",
              "    }\n",
              "</style>\n",
              "<table border=\"1\" class=\"dataframe\">\n",
              "  <thead>\n",
              "    <tr style=\"text-align: right;\">\n",
              "      <th></th>\n",
              "      <th>file</th>\n",
              "      <th>label</th>\n",
              "      <th>Class</th>\n",
              "      <th>feature</th>\n",
              "    </tr>\n",
              "  </thead>\n",
              "  <tbody>\n",
              "    <tr>\n",
              "      <th>0</th>\n",
              "      <td>Train_submission/Train_submission/029500_morni...</td>\n",
              "      <td>2</td>\n",
              "      <td>Sound_Piano</td>\n",
              "      <td>[[-391.31836, 167.01129, 11.016864, 2.181573, ...</td>\n",
              "    </tr>\n",
              "    <tr>\n",
              "      <th>1</th>\n",
              "      <td>Train_submission/Train_submission/035568_uprig...</td>\n",
              "      <td>2</td>\n",
              "      <td>Sound_Piano</td>\n",
              "      <td>[[-649.3114, 102.29075, 52.36694, 19.935278, 8...</td>\n",
              "    </tr>\n",
              "    <tr>\n",
              "      <th>2</th>\n",
              "      <td>Train_submission/Train_submission/04-47367.wav</td>\n",
              "      <td>1</td>\n",
              "      <td>Sound_Drum</td>\n",
              "      <td>[[-122.803505, 66.70081, -15.50937, 25.863022,...</td>\n",
              "    </tr>\n",
              "    <tr>\n",
              "      <th>3</th>\n",
              "      <td>Train_submission/Train_submission/04-47367.wav</td>\n",
              "      <td>3</td>\n",
              "      <td>Sound_Violin</td>\n",
              "      <td>[[-122.803505, 66.70081, -15.50937, 25.863022,...</td>\n",
              "    </tr>\n",
              "    <tr>\n",
              "      <th>4</th>\n",
              "      <td>Train_submission/Train_submission/046578_triba...</td>\n",
              "      <td>1</td>\n",
              "      <td>Sound_Drum</td>\n",
              "      <td>[[-124.61078, 46.562347, 53.75595, 67.478966, ...</td>\n",
              "    </tr>\n",
              "    <tr>\n",
              "      <th>...</th>\n",
              "      <td>...</td>\n",
              "      <td>...</td>\n",
              "      <td>...</td>\n",
              "      <td>...</td>\n",
              "    </tr>\n",
              "    <tr>\n",
              "      <th>2624</th>\n",
              "      <td>Train_submission/Train_submission/strange-pian...</td>\n",
              "      <td>2</td>\n",
              "      <td>Sound_Piano</td>\n",
              "      <td>[[-340.2557, 139.22214, -60.47418, 31.721258, ...</td>\n",
              "    </tr>\n",
              "    <tr>\n",
              "      <th>2625</th>\n",
              "      <td>Train_submission/Train_submission/the-last-pia...</td>\n",
              "      <td>2</td>\n",
              "      <td>Sound_Piano</td>\n",
              "      <td>[[-369.50864, 226.44633, -21.799685, -10.73569...</td>\n",
              "    </tr>\n",
              "    <tr>\n",
              "      <th>2626</th>\n",
              "      <td>Train_submission/Train_submission/this-is-war-...</td>\n",
              "      <td>2</td>\n",
              "      <td>Sound_Piano</td>\n",
              "      <td>[[-355.62, 168.70683, 15.937247, 8.451197, 13....</td>\n",
              "    </tr>\n",
              "    <tr>\n",
              "      <th>2627</th>\n",
              "      <td>Train_submission/Train_submission/tired-ghosts...</td>\n",
              "      <td>2</td>\n",
              "      <td>Sound_Piano</td>\n",
              "      <td>[[-624.9958, 124.9852, 62.212925, 22.685425, 1...</td>\n",
              "    </tr>\n",
              "    <tr>\n",
              "      <th>2628</th>\n",
              "      <td>Train_submission/Train_submission/toy-piano-27...</td>\n",
              "      <td>2</td>\n",
              "      <td>Sound_Piano</td>\n",
              "      <td>[[-607.02466, 70.27457, 2.2590735, 4.4636903, ...</td>\n",
              "    </tr>\n",
              "  </tbody>\n",
              "</table>\n",
              "<p>2629 rows × 4 columns</p>\n",
              "</div>\n",
              "    <div class=\"colab-df-buttons\">\n",
              "\n",
              "  <div class=\"colab-df-container\">\n",
              "    <button class=\"colab-df-convert\" onclick=\"convertToInteractive('df-ab0000bc-a9c5-4f51-b5e4-9b5e7a161832')\"\n",
              "            title=\"Convert this dataframe to an interactive table.\"\n",
              "            style=\"display:none;\">\n",
              "\n",
              "  <svg xmlns=\"http://www.w3.org/2000/svg\" height=\"24px\" viewBox=\"0 -960 960 960\">\n",
              "    <path d=\"M120-120v-720h720v720H120Zm60-500h600v-160H180v160Zm220 220h160v-160H400v160Zm0 220h160v-160H400v160ZM180-400h160v-160H180v160Zm440 0h160v-160H620v160ZM180-180h160v-160H180v160Zm440 0h160v-160H620v160Z\"/>\n",
              "  </svg>\n",
              "    </button>\n",
              "\n",
              "  <style>\n",
              "    .colab-df-container {\n",
              "      display:flex;\n",
              "      gap: 12px;\n",
              "    }\n",
              "\n",
              "    .colab-df-convert {\n",
              "      background-color: #E8F0FE;\n",
              "      border: none;\n",
              "      border-radius: 50%;\n",
              "      cursor: pointer;\n",
              "      display: none;\n",
              "      fill: #1967D2;\n",
              "      height: 32px;\n",
              "      padding: 0 0 0 0;\n",
              "      width: 32px;\n",
              "    }\n",
              "\n",
              "    .colab-df-convert:hover {\n",
              "      background-color: #E2EBFA;\n",
              "      box-shadow: 0px 1px 2px rgba(60, 64, 67, 0.3), 0px 1px 3px 1px rgba(60, 64, 67, 0.15);\n",
              "      fill: #174EA6;\n",
              "    }\n",
              "\n",
              "    .colab-df-buttons div {\n",
              "      margin-bottom: 4px;\n",
              "    }\n",
              "\n",
              "    [theme=dark] .colab-df-convert {\n",
              "      background-color: #3B4455;\n",
              "      fill: #D2E3FC;\n",
              "    }\n",
              "\n",
              "    [theme=dark] .colab-df-convert:hover {\n",
              "      background-color: #434B5C;\n",
              "      box-shadow: 0px 1px 3px 1px rgba(0, 0, 0, 0.15);\n",
              "      filter: drop-shadow(0px 1px 2px rgba(0, 0, 0, 0.3));\n",
              "      fill: #FFFFFF;\n",
              "    }\n",
              "  </style>\n",
              "\n",
              "    <script>\n",
              "      const buttonEl =\n",
              "        document.querySelector('#df-ab0000bc-a9c5-4f51-b5e4-9b5e7a161832 button.colab-df-convert');\n",
              "      buttonEl.style.display =\n",
              "        google.colab.kernel.accessAllowed ? 'block' : 'none';\n",
              "\n",
              "      async function convertToInteractive(key) {\n",
              "        const element = document.querySelector('#df-ab0000bc-a9c5-4f51-b5e4-9b5e7a161832');\n",
              "        const dataTable =\n",
              "          await google.colab.kernel.invokeFunction('convertToInteractive',\n",
              "                                                    [key], {});\n",
              "        if (!dataTable) return;\n",
              "\n",
              "        const docLinkHtml = 'Like what you see? Visit the ' +\n",
              "          '<a target=\"_blank\" href=https://colab.research.google.com/notebooks/data_table.ipynb>data table notebook</a>'\n",
              "          + ' to learn more about interactive tables.';\n",
              "        element.innerHTML = '';\n",
              "        dataTable['output_type'] = 'display_data';\n",
              "        await google.colab.output.renderOutput(dataTable, element);\n",
              "        const docLink = document.createElement('div');\n",
              "        docLink.innerHTML = docLinkHtml;\n",
              "        element.appendChild(docLink);\n",
              "      }\n",
              "    </script>\n",
              "  </div>\n",
              "\n",
              "\n",
              "<div id=\"df-b0bb9ac9-ebfb-4a74-b1bd-5f46994474e0\">\n",
              "  <button class=\"colab-df-quickchart\" onclick=\"quickchart('df-b0bb9ac9-ebfb-4a74-b1bd-5f46994474e0')\"\n",
              "            title=\"Suggest charts\"\n",
              "            style=\"display:none;\">\n",
              "\n",
              "<svg xmlns=\"http://www.w3.org/2000/svg\" height=\"24px\"viewBox=\"0 0 24 24\"\n",
              "     width=\"24px\">\n",
              "    <g>\n",
              "        <path d=\"M19 3H5c-1.1 0-2 .9-2 2v14c0 1.1.9 2 2 2h14c1.1 0 2-.9 2-2V5c0-1.1-.9-2-2-2zM9 17H7v-7h2v7zm4 0h-2V7h2v10zm4 0h-2v-4h2v4z\"/>\n",
              "    </g>\n",
              "</svg>\n",
              "  </button>\n",
              "\n",
              "<style>\n",
              "  .colab-df-quickchart {\n",
              "      --bg-color: #E8F0FE;\n",
              "      --fill-color: #1967D2;\n",
              "      --hover-bg-color: #E2EBFA;\n",
              "      --hover-fill-color: #174EA6;\n",
              "      --disabled-fill-color: #AAA;\n",
              "      --disabled-bg-color: #DDD;\n",
              "  }\n",
              "\n",
              "  [theme=dark] .colab-df-quickchart {\n",
              "      --bg-color: #3B4455;\n",
              "      --fill-color: #D2E3FC;\n",
              "      --hover-bg-color: #434B5C;\n",
              "      --hover-fill-color: #FFFFFF;\n",
              "      --disabled-bg-color: #3B4455;\n",
              "      --disabled-fill-color: #666;\n",
              "  }\n",
              "\n",
              "  .colab-df-quickchart {\n",
              "    background-color: var(--bg-color);\n",
              "    border: none;\n",
              "    border-radius: 50%;\n",
              "    cursor: pointer;\n",
              "    display: none;\n",
              "    fill: var(--fill-color);\n",
              "    height: 32px;\n",
              "    padding: 0;\n",
              "    width: 32px;\n",
              "  }\n",
              "\n",
              "  .colab-df-quickchart:hover {\n",
              "    background-color: var(--hover-bg-color);\n",
              "    box-shadow: 0 1px 2px rgba(60, 64, 67, 0.3), 0 1px 3px 1px rgba(60, 64, 67, 0.15);\n",
              "    fill: var(--button-hover-fill-color);\n",
              "  }\n",
              "\n",
              "  .colab-df-quickchart-complete:disabled,\n",
              "  .colab-df-quickchart-complete:disabled:hover {\n",
              "    background-color: var(--disabled-bg-color);\n",
              "    fill: var(--disabled-fill-color);\n",
              "    box-shadow: none;\n",
              "  }\n",
              "\n",
              "  .colab-df-spinner {\n",
              "    border: 2px solid var(--fill-color);\n",
              "    border-color: transparent;\n",
              "    border-bottom-color: var(--fill-color);\n",
              "    animation:\n",
              "      spin 1s steps(1) infinite;\n",
              "  }\n",
              "\n",
              "  @keyframes spin {\n",
              "    0% {\n",
              "      border-color: transparent;\n",
              "      border-bottom-color: var(--fill-color);\n",
              "      border-left-color: var(--fill-color);\n",
              "    }\n",
              "    20% {\n",
              "      border-color: transparent;\n",
              "      border-left-color: var(--fill-color);\n",
              "      border-top-color: var(--fill-color);\n",
              "    }\n",
              "    30% {\n",
              "      border-color: transparent;\n",
              "      border-left-color: var(--fill-color);\n",
              "      border-top-color: var(--fill-color);\n",
              "      border-right-color: var(--fill-color);\n",
              "    }\n",
              "    40% {\n",
              "      border-color: transparent;\n",
              "      border-right-color: var(--fill-color);\n",
              "      border-top-color: var(--fill-color);\n",
              "    }\n",
              "    60% {\n",
              "      border-color: transparent;\n",
              "      border-right-color: var(--fill-color);\n",
              "    }\n",
              "    80% {\n",
              "      border-color: transparent;\n",
              "      border-right-color: var(--fill-color);\n",
              "      border-bottom-color: var(--fill-color);\n",
              "    }\n",
              "    90% {\n",
              "      border-color: transparent;\n",
              "      border-bottom-color: var(--fill-color);\n",
              "    }\n",
              "  }\n",
              "</style>\n",
              "\n",
              "  <script>\n",
              "    async function quickchart(key) {\n",
              "      const quickchartButtonEl =\n",
              "        document.querySelector('#' + key + ' button');\n",
              "      quickchartButtonEl.disabled = true;  // To prevent multiple clicks.\n",
              "      quickchartButtonEl.classList.add('colab-df-spinner');\n",
              "      try {\n",
              "        const charts = await google.colab.kernel.invokeFunction(\n",
              "            'suggestCharts', [key], {});\n",
              "      } catch (error) {\n",
              "        console.error('Error during call to suggestCharts:', error);\n",
              "      }\n",
              "      quickchartButtonEl.classList.remove('colab-df-spinner');\n",
              "      quickchartButtonEl.classList.add('colab-df-quickchart-complete');\n",
              "    }\n",
              "    (() => {\n",
              "      let quickchartButtonEl =\n",
              "        document.querySelector('#df-b0bb9ac9-ebfb-4a74-b1bd-5f46994474e0 button');\n",
              "      quickchartButtonEl.style.display =\n",
              "        google.colab.kernel.accessAllowed ? 'block' : 'none';\n",
              "    })();\n",
              "  </script>\n",
              "</div>\n",
              "    </div>\n",
              "  </div>\n"
            ]
          },
          "metadata": {},
          "execution_count": 121
        }
      ]
    },
    {
      "cell_type": "code",
      "source": [
        "# from sklearn.preprocessing import LabelEncoder\n",
        "X=np.array(dd['feature'].tolist())\n",
        "y=np.array(dd[\"label\"].tolist())"
      ],
      "metadata": {
        "id": "TL4trhtca-Tj"
      },
      "execution_count": null,
      "outputs": []
    },
    {
      "cell_type": "code",
      "source": [
        "X.shape"
      ],
      "metadata": {
        "colab": {
          "base_uri": "https://localhost:8080/"
        },
        "id": "Mj7kBjcsgeYi",
        "outputId": "4d2a443e-ba3b-4b8e-aa95-f438f0b4fc06"
      },
      "execution_count": null,
      "outputs": [
        {
          "output_type": "execute_result",
          "data": {
            "text/plain": [
              "(2629, 1, 40)"
            ]
          },
          "metadata": {},
          "execution_count": 123
        }
      ]
    },
    {
      "cell_type": "code",
      "source": [
        "y"
      ],
      "metadata": {
        "colab": {
          "base_uri": "https://localhost:8080/"
        },
        "id": "PIstB9lDfmxq",
        "outputId": "234f6987-f5ed-4d9e-de99-402df54eac39"
      },
      "execution_count": null,
      "outputs": [
        {
          "output_type": "execute_result",
          "data": {
            "text/plain": [
              "array([2, 2, 1, ..., 2, 2, 2])"
            ]
          },
          "metadata": {},
          "execution_count": 124
        }
      ]
    },
    {
      "cell_type": "code",
      "source": [
        "print(dd['feature'][0])"
      ],
      "metadata": {
        "colab": {
          "base_uri": "https://localhost:8080/"
        },
        "id": "0BuO9gZWPZux",
        "outputId": "e5b5c41b-e8b0-4ab0-d77c-0f4c22582a34"
      },
      "execution_count": null,
      "outputs": [
        {
          "output_type": "stream",
          "name": "stdout",
          "text": [
            "[array([-3.91318359e+02,  1.67011292e+02,  1.10168638e+01,  2.18157291e+00,\n",
            "        9.18151760e+00, -2.75399280e+00,  5.12870312e-01,  1.06217706e+00,\n",
            "       -4.89515162e+00, -7.69560194e+00, -1.03921299e+01, -7.56495667e+00,\n",
            "        1.54135942e+00,  6.21416521e+00,  2.47368956e+00, -1.23543131e+00,\n",
            "        1.15466738e+00, -4.85515177e-01,  5.45977533e-01,  8.08689880e+00,\n",
            "        5.67252970e+00, -2.92514157e+00, -2.26791358e+00,  1.70364845e+00,\n",
            "        1.18935561e+00, -1.01181686e+00, -2.95740604e+00,  4.92143965e+00,\n",
            "        6.76138973e+00, -9.50563049e+00, -1.36096325e+01, -1.33412504e+00,\n",
            "        2.62620258e+00, -2.04868960e+00,  3.42931449e-01,  3.60147166e+00,\n",
            "        1.80371070e+00,  3.33607078e+00,  4.95880365e+00,  3.55356455e+00],\n",
            "      dtype=float32)]\n"
          ]
        }
      ]
    },
    {
      "cell_type": "code",
      "source": [],
      "metadata": {
        "id": "YDOJixsI_8Z2"
      },
      "execution_count": null,
      "outputs": []
    },
    {
      "cell_type": "markdown",
      "source": [
        "#### Mel Frequency 시각화"
      ],
      "metadata": {
        "id": "n1-J1Z6Cj2hE"
      }
    },
    {
      "cell_type": "code",
      "source": [
        "plt.figure(figsize=(14, 4))\n",
        "# dd['feature'][0]을 numpy 배열로 변환\n",
        "mfcc_data = np.array(dd['feature'][0], dtype=np.float32)\n",
        "\n",
        "# extracted_rate[0] 값을 실수로 변환\n",
        "sr = float(extracted_rate[0])\n",
        "\n",
        "librosa.display.specshow(mfcc_data, sr=sr, x_axis='time', cmap='viridis')\n",
        "plt.colorbar()\n",
        "plt.title('MFCCs Coefficients')\n",
        "plt.show()"
      ],
      "metadata": {
        "colab": {
          "base_uri": "https://localhost:8080/",
          "height": 340
        },
        "id": "rWweSSroj5z9",
        "outputId": "90b8a61d-c477-4190-b662-e840d3065c83"
      },
      "execution_count": null,
      "outputs": [
        {
          "output_type": "display_data",
          "data": {
            "text/plain": [
              "<Figure size 1400x400 with 2 Axes>"
            ],
            "image/png": "[encoded data removed]"
          },
          "metadata": {}
        }
      ]
    },
    {
      "cell_type": "markdown",
      "source": [
        "#데이터셋 분할"
      ],
      "metadata": {
        "id": "6c87MCsRZtk0"
      }
    },
    {
      "cell_type": "code",
      "source": [
        "from tensorflow.keras.utils import to_categorical #one-hot-coding\n",
        "from sklearn.preprocessing import LabelEncoder\n",
        "\n",
        "LE=LabelEncoder()\n",
        "y=to_categorical(LE.fit_transform(y)) #원핫코딩 변환 (다중클래스 분류)\n",
        "\n",
        "from sklearn.model_selection import train_test_split\n",
        "X_train,X_test,y_train,y_test=train_test_split(X,y,test_size=0.2,random_state=42)\n",
        "from sklearn.model_selection import train_test_split\n",
        "X_train,X_test,y_train,y_test=train_test_split(X,y,test_size=0.2,random_state=42)\n"
      ],
      "metadata": {
        "id": "gmpH7r3BZwla"
      },
      "execution_count": null,
      "outputs": []
    },
    {
      "cell_type": "code",
      "source": [
        "print(\"Shape Of X_train:\",X_train.shape)\n",
        "print(\"Shape Of X_test:\",X_test.shape)\n",
        "print(\"Shape Of y_train:\",y_train.shape)\n",
        "print(\"Shape Of y_test:\",y_test.shape)"
      ],
      "metadata": {
        "colab": {
          "base_uri": "https://localhost:8080/"
        },
        "id": "X5qNUdQeblnQ",
        "outputId": "4bf058c7-28b1-47cd-d767-2a97eba25f26"
      },
      "execution_count": null,
      "outputs": [
        {
          "output_type": "stream",
          "name": "stdout",
          "text": [
            "Shape Of X_train: (2103, 1, 40)\n",
            "Shape Of X_test: (526, 1, 40)\n",
            "Shape Of y_train: (2103, 4)\n",
            "Shape Of y_test: (526, 4)\n"
          ]
        }
      ]
    },
    {
      "cell_type": "code",
      "source": [
        "# X_train의 두 번째 차원 제거 (각 샘플의 프레임들을 평탄화)\n",
        "X_train_reshaped = X_train.reshape(X_train.shape[0], -1)\n",
        "X_test_reshaped = X_test.reshape(X_test.shape[0], -1)"
      ],
      "metadata": {
        "id": "62Qe_bFeg4M1"
      },
      "execution_count": null,
      "outputs": []
    },
    {
      "cell_type": "code",
      "source": [
        "num_labels = y.shape[1]"
      ],
      "metadata": {
        "id": "08AYUceRgGMC"
      },
      "execution_count": null,
      "outputs": []
    },
    {
      "cell_type": "code",
      "source": [
        "num_labels"
      ],
      "metadata": {
        "colab": {
          "base_uri": "https://localhost:8080/"
        },
        "id": "AgLKqlyHGIdD",
        "outputId": "27b4de9f-28b6-4ce6-8521-e099a1a56833"
      },
      "execution_count": null,
      "outputs": [
        {
          "output_type": "execute_result",
          "data": {
            "text/plain": [
              "4"
            ]
          },
          "metadata": {},
          "execution_count": 74
        }
      ]
    },
    {
      "cell_type": "code",
      "source": [
        "y"
      ],
      "metadata": {
        "colab": {
          "base_uri": "https://localhost:8080/"
        },
        "id": "l-Jgh99-wkA5",
        "outputId": "26ac8c64-126f-4298-c8b7-c55b2d93f631"
      },
      "execution_count": null,
      "outputs": [
        {
          "output_type": "execute_result",
          "data": {
            "text/plain": [
              "array([[0., 0., 1., 0.],\n",
              "       [0., 0., 1., 0.],\n",
              "       [0., 1., 0., 0.],\n",
              "       ...,\n",
              "       [0., 0., 1., 0.],\n",
              "       [0., 0., 1., 0.],\n",
              "       [0., 0., 1., 0.]], dtype=float32)"
            ]
          },
          "metadata": {},
          "execution_count": 75
        }
      ]
    },
    {
      "cell_type": "markdown",
      "source": [
        "#모델 정의"
      ],
      "metadata": {
        "id": "iCI4p1W5gGll"
      }
    },
    {
      "cell_type": "code",
      "source": [
        "# Creating Our Model\n",
        "#CNN\n",
        "\n",
        "model=Sequential()\n",
        "model.add(Dense(100,input_shape=(40,)))\n",
        "model.add(Activation('relu'))\n",
        "model.add(Dropout(0.3))\n",
        "\n",
        "model.add(Dense(200))\n",
        "model.add(Activation('relu'))\n",
        "model.add(Dropout(0.3))\n",
        "\n",
        "model.add(Dense(200))\n",
        "model.add(Activation('relu'))\n",
        "model.add(Dropout(0.3))\n",
        "\n",
        "model.add(Dense(100))\n",
        "model.add(Activation('relu'))\n",
        "model.add(Dropout(0.3))\n",
        "\n",
        "model.add(Dense(num_labels))\n",
        "model.add(Activation('softmax'))\n",
        "\n"
      ],
      "metadata": {
        "id": "9vBmXdJ6gsvN"
      },
      "execution_count": null,
      "outputs": []
    },
    {
      "cell_type": "code",
      "source": [
        "model.summary()"
      ],
      "metadata": {
        "colab": {
          "base_uri": "https://localhost:8080/"
        },
        "id": "VGlbfIcJGpGn",
        "outputId": "6590032f-43b7-4af5-b2bc-80e1dd805a6a"
      },
      "execution_count": null,
      "outputs": [
        {
          "output_type": "stream",
          "name": "stdout",
          "text": [
            "Model: \"sequential_3\"\n",
            "_________________________________________________________________\n",
            " Layer (type)                Output Shape              Param #   \n",
            "=================================================================\n",
            " dense_15 (Dense)            (None, 100)               4100      \n",
            "                                                                 \n",
            " activation_15 (Activation)  (None, 100)               0         \n",
            "                                                                 \n",
            " dropout_12 (Dropout)        (None, 100)               0         \n",
            "                                                                 \n",
            " dense_16 (Dense)            (None, 200)               20200     \n",
            "                                                                 \n",
            " activation_16 (Activation)  (None, 200)               0         \n",
            "                                                                 \n",
            " dropout_13 (Dropout)        (None, 200)               0         \n",
            "                                                                 \n",
            " dense_17 (Dense)            (None, 200)               40200     \n",
            "                                                                 \n",
            " activation_17 (Activation)  (None, 200)               0         \n",
            "                                                                 \n",
            " dropout_14 (Dropout)        (None, 200)               0         \n",
            "                                                                 \n",
            " dense_18 (Dense)            (None, 100)               20100     \n",
            "                                                                 \n",
            " activation_18 (Activation)  (None, 100)               0         \n",
            "                                                                 \n",
            " dropout_15 (Dropout)        (None, 100)               0         \n",
            "                                                                 \n",
            " dense_19 (Dense)            (None, 4)                 404       \n",
            "                                                                 \n",
            " activation_19 (Activation)  (None, 4)                 0         \n",
            "                                                                 \n",
            "=================================================================\n",
            "Total params: 85004 (332.05 KB)\n",
            "Trainable params: 85004 (332.05 KB)\n",
            "Non-trainable params: 0 (0.00 Byte)\n",
            "_________________________________________________________________\n"
          ]
        }
      ]
    },
    {
      "cell_type": "code",
      "source": [
        "model.compile(loss='categorical_crossentropy',metrics=['accuracy'],optimizer='adam')"
      ],
      "metadata": {
        "id": "qjaI1Y0zHRlE"
      },
      "execution_count": null,
      "outputs": []
    },
    {
      "cell_type": "markdown",
      "source": [
        "#훈련시키기"
      ],
      "metadata": {
        "id": "VKsnVUqR1E2P"
      }
    },
    {
      "cell_type": "code",
      "source": [
        "from tensorflow.keras.callbacks import ModelCheckpoint\n",
        "# tf.keras.callbacks.ModelCheckpoint\n",
        "from datetime import datetime\n",
        "import keras\n",
        "from keras.models import Sequential\n",
        "from keras.layers import Dense\n",
        "\n",
        "num_epochs=100\n",
        "num_batch_size=32\n",
        "\n",
        "\n",
        "checkpointer=ModelCheckpoint(filepath='saved_models/audio_classification.hdf5',verbose=1,save_best_only=True)\n",
        "start=datetime.now()\n",
        "history = model.fit(X_train_reshaped, y_train, batch_size=num_batch_size, epochs=num_epochs, validation_data=(X_test_reshaped, y_test), callbacks=checkpointer)\n",
        "duration=datetime.now()-start\n",
        "print(\"Training Completed in time: \",duration)"
      ],
      "metadata": {
        "colab": {
          "base_uri": "https://localhost:8080/"
        },
        "id": "-38G2KUH1HPM",
        "outputId": "6380b12c-2722-48fe-8c1b-cc7be9485673"
      },
      "execution_count": null,
      "outputs": [
        {
          "output_type": "stream",
          "name": "stdout",
          "text": [
            "Epoch 1/100\n",
            "66/66 [==============================] - ETA: 0s - loss: 12.9559 - accuracy: 0.3015\n",
            "Epoch 1: val_loss improved from inf to 1.31016, saving model to saved_models/audio_classification.hdf5\n",
            "66/66 [==============================] - 2s 9ms/step - loss: 12.9559 - accuracy: 0.3015 - val_loss: 1.3102 - val_accuracy: 0.2928\n",
            "Epoch 2/100\n",
            "58/66 [=========================>....] - ETA: 0s - loss: 3.4340 - accuracy: 0.3411\n",
            "Epoch 2: val_loss improved from 1.31016 to 1.11668, saving model to saved_models/audio_classification.hdf5\n",
            "66/66 [==============================] - 0s 5ms/step - loss: 3.3295 - accuracy: 0.3419 - val_loss: 1.1167 - val_accuracy: 0.5437\n",
            "Epoch 3/100\n",
            "56/66 [========================>.....] - ETA: 0s - loss: 2.0437 - accuracy: 0.3677\n",
            "Epoch 3: val_loss did not improve from 1.11668\n",
            "66/66 [==============================] - 0s 5ms/step - loss: 1.9921 - accuracy: 0.3738 - val_loss: 1.1254 - val_accuracy: 0.4525\n",
            "Epoch 4/100\n",
            "61/66 [==========================>...] - ETA: 0s - loss: 1.5794 - accuracy: 0.3786\n",
            "Epoch 4: val_loss improved from 1.11668 to 1.08926, saving model to saved_models/audio_classification.hdf5\n",
            "66/66 [==============================] - 0s 5ms/step - loss: 1.5832 - accuracy: 0.3780 - val_loss: 1.0893 - val_accuracy: 0.4734\n",
            "Epoch 5/100\n",
            "61/66 [==========================>...] - ETA: 0s - loss: 1.3449 - accuracy: 0.4283\n",
            "Epoch 5: val_loss improved from 1.08926 to 1.03035, saving model to saved_models/audio_classification.hdf5\n",
            "66/66 [==============================] - 0s 5ms/step - loss: 1.3454 - accuracy: 0.4284 - val_loss: 1.0303 - val_accuracy: 0.4962\n",
            "Epoch 6/100\n",
            "66/66 [==============================] - ETA: 0s - loss: 1.2384 - accuracy: 0.4398\n",
            "Epoch 6: val_loss improved from 1.03035 to 0.98372, saving model to saved_models/audio_classification.hdf5\n",
            "66/66 [==============================] - 1s 13ms/step - loss: 1.2384 - accuracy: 0.4398 - val_loss: 0.9837 - val_accuracy: 0.5076\n",
            "Epoch 7/100\n",
            "60/66 [==========================>...] - ETA: 0s - loss: 1.1618 - accuracy: 0.4484\n",
            "Epoch 7: val_loss improved from 0.98372 to 0.91872, saving model to saved_models/audio_classification.hdf5\n",
            "66/66 [==============================] - 1s 9ms/step - loss: 1.1496 - accuracy: 0.4503 - val_loss: 0.9187 - val_accuracy: 0.5285\n",
            "Epoch 8/100\n",
            "57/66 [========================>.....] - ETA: 0s - loss: 1.1089 - accuracy: 0.4825\n",
            "Epoch 8: val_loss improved from 0.91872 to 0.89003, saving model to saved_models/audio_classification.hdf5\n",
            "66/66 [==============================] - 0s 5ms/step - loss: 1.1041 - accuracy: 0.4836 - val_loss: 0.8900 - val_accuracy: 0.5494\n",
            "Epoch 9/100\n",
            "57/66 [========================>.....] - ETA: 0s - loss: 1.0234 - accuracy: 0.4967\n",
            "Epoch 9: val_loss improved from 0.89003 to 0.87210, saving model to saved_models/audio_classification.hdf5\n",
            "66/66 [==============================] - 0s 6ms/step - loss: 1.0241 - accuracy: 0.5017 - val_loss: 0.8721 - val_accuracy: 0.5856\n",
            "Epoch 10/100\n",
            "64/66 [============================>.] - ETA: 0s - loss: 0.9881 - accuracy: 0.5088\n",
            "Epoch 10: val_loss improved from 0.87210 to 0.83906, saving model to saved_models/audio_classification.hdf5\n",
            "66/66 [==============================] - 1s 8ms/step - loss: 0.9887 - accuracy: 0.5093 - val_loss: 0.8391 - val_accuracy: 0.5722\n",
            "Epoch 11/100\n",
            "61/66 [==========================>...] - ETA: 0s - loss: 0.9632 - accuracy: 0.5236\n",
            "Epoch 11: val_loss improved from 0.83906 to 0.81495, saving model to saved_models/audio_classification.hdf5\n",
            "66/66 [==============================] - 0s 7ms/step - loss: 0.9662 - accuracy: 0.5240 - val_loss: 0.8149 - val_accuracy: 0.5856\n",
            "Epoch 12/100\n",
            "60/66 [==========================>...] - ETA: 0s - loss: 0.9316 - accuracy: 0.5391\n",
            "Epoch 12: val_loss improved from 0.81495 to 0.76175, saving model to saved_models/audio_classification.hdf5\n",
            "66/66 [==============================] - 0s 7ms/step - loss: 0.9282 - accuracy: 0.5373 - val_loss: 0.7617 - val_accuracy: 0.5779\n",
            "Epoch 13/100\n",
            "60/66 [==========================>...] - ETA: 0s - loss: 0.9323 - accuracy: 0.5453\n",
            "Epoch 13: val_loss improved from 0.76175 to 0.73870, saving model to saved_models/audio_classification.hdf5\n",
            "66/66 [==============================] - 0s 7ms/step - loss: 0.9307 - accuracy: 0.5468 - val_loss: 0.7387 - val_accuracy: 0.6388\n",
            "Epoch 14/100\n",
            "60/66 [==========================>...] - ETA: 0s - loss: 0.9058 - accuracy: 0.5557\n",
            "Epoch 14: val_loss improved from 0.73870 to 0.71044, saving model to saved_models/audio_classification.hdf5\n",
            "66/66 [==============================] - 1s 8ms/step - loss: 0.8993 - accuracy: 0.5578 - val_loss: 0.7104 - val_accuracy: 0.6388\n",
            "Epoch 15/100\n",
            "66/66 [==============================] - ETA: 0s - loss: 0.8585 - accuracy: 0.5754\n",
            "Epoch 15: val_loss did not improve from 0.71044\n",
            "66/66 [==============================] - 0s 7ms/step - loss: 0.8585 - accuracy: 0.5754 - val_loss: 0.7146 - val_accuracy: 0.5989\n",
            "Epoch 16/100\n",
            "63/66 [===========================>..] - ETA: 0s - loss: 0.8383 - accuracy: 0.5898\n",
            "Epoch 16: val_loss improved from 0.71044 to 0.69923, saving model to saved_models/audio_classification.hdf5\n",
            "66/66 [==============================] - 0s 7ms/step - loss: 0.8376 - accuracy: 0.5887 - val_loss: 0.6992 - val_accuracy: 0.6255\n",
            "Epoch 17/100\n",
            "66/66 [==============================] - ETA: 0s - loss: 0.8214 - accuracy: 0.5963\n",
            "Epoch 17: val_loss improved from 0.69923 to 0.64894, saving model to saved_models/audio_classification.hdf5\n",
            "66/66 [==============================] - 0s 7ms/step - loss: 0.8214 - accuracy: 0.5963 - val_loss: 0.6489 - val_accuracy: 0.6388\n",
            "Epoch 18/100\n",
            "60/66 [==========================>...] - ETA: 0s - loss: 0.7964 - accuracy: 0.6042\n",
            "Epoch 18: val_loss did not improve from 0.64894\n",
            "66/66 [==============================] - 0s 7ms/step - loss: 0.8037 - accuracy: 0.6025 - val_loss: 0.6498 - val_accuracy: 0.6616\n",
            "Epoch 19/100\n",
            "59/66 [=========================>....] - ETA: 0s - loss: 0.7473 - accuracy: 0.6192\n",
            "Epoch 19: val_loss improved from 0.64894 to 0.64210, saving model to saved_models/audio_classification.hdf5\n",
            "66/66 [==============================] - 1s 8ms/step - loss: 0.7565 - accuracy: 0.6158 - val_loss: 0.6421 - val_accuracy: 0.6654\n",
            "Epoch 20/100\n",
            "64/66 [============================>.] - ETA: 0s - loss: 0.7875 - accuracy: 0.6123\n",
            "Epoch 20: val_loss improved from 0.64210 to 0.60922, saving model to saved_models/audio_classification.hdf5\n",
            "66/66 [==============================] - 1s 8ms/step - loss: 0.7881 - accuracy: 0.6106 - val_loss: 0.6092 - val_accuracy: 0.6673\n",
            "Epoch 21/100\n",
            "59/66 [=========================>....] - ETA: 0s - loss: 0.7334 - accuracy: 0.6319\n",
            "Epoch 21: val_loss improved from 0.60922 to 0.57588, saving model to saved_models/audio_classification.hdf5\n",
            "66/66 [==============================] - 0s 5ms/step - loss: 0.7213 - accuracy: 0.6334 - val_loss: 0.5759 - val_accuracy: 0.6559\n",
            "Epoch 22/100\n",
            "57/66 [========================>.....] - ETA: 0s - loss: 0.7305 - accuracy: 0.6327\n",
            "Epoch 22: val_loss did not improve from 0.57588\n",
            "66/66 [==============================] - 0s 5ms/step - loss: 0.7295 - accuracy: 0.6353 - val_loss: 0.5865 - val_accuracy: 0.6692\n",
            "Epoch 23/100\n",
            "58/66 [=========================>....] - ETA: 0s - loss: 0.7118 - accuracy: 0.6449\n",
            "Epoch 23: val_loss improved from 0.57588 to 0.57189, saving model to saved_models/audio_classification.hdf5\n",
            "66/66 [==============================] - 0s 5ms/step - loss: 0.7071 - accuracy: 0.6438 - val_loss: 0.5719 - val_accuracy: 0.6901\n",
            "Epoch 24/100\n",
            "61/66 [==========================>...] - ETA: 0s - loss: 0.7482 - accuracy: 0.6265\n",
            "Epoch 24: val_loss did not improve from 0.57189\n",
            "66/66 [==============================] - 0s 5ms/step - loss: 0.7426 - accuracy: 0.6286 - val_loss: 0.5745 - val_accuracy: 0.6882\n",
            "Epoch 25/100\n",
            "58/66 [=========================>....] - ETA: 0s - loss: 0.6792 - accuracy: 0.6395\n",
            "Epoch 25: val_loss improved from 0.57189 to 0.54885, saving model to saved_models/audio_classification.hdf5\n",
            "66/66 [==============================] - 0s 6ms/step - loss: 0.6805 - accuracy: 0.6429 - val_loss: 0.5489 - val_accuracy: 0.6711\n",
            "Epoch 26/100\n",
            "56/66 [========================>.....] - ETA: 0s - loss: 0.6552 - accuracy: 0.6384\n",
            "Epoch 26: val_loss did not improve from 0.54885\n",
            "66/66 [==============================] - 0s 5ms/step - loss: 0.6488 - accuracy: 0.6453 - val_loss: 0.5504 - val_accuracy: 0.6711\n",
            "Epoch 27/100\n",
            "64/66 [============================>.] - ETA: 0s - loss: 0.6483 - accuracy: 0.6538\n",
            "Epoch 27: val_loss did not improve from 0.54885\n",
            "66/66 [==============================] - 0s 7ms/step - loss: 0.6461 - accuracy: 0.6553 - val_loss: 0.5492 - val_accuracy: 0.6787\n",
            "Epoch 28/100\n",
            "59/66 [=========================>....] - ETA: 0s - loss: 0.6365 - accuracy: 0.6663\n",
            "Epoch 28: val_loss improved from 0.54885 to 0.54316, saving model to saved_models/audio_classification.hdf5\n",
            "66/66 [==============================] - 0s 5ms/step - loss: 0.6411 - accuracy: 0.6624 - val_loss: 0.5432 - val_accuracy: 0.6749\n",
            "Epoch 29/100\n",
            "60/66 [==========================>...] - ETA: 0s - loss: 0.6131 - accuracy: 0.6562\n",
            "Epoch 29: val_loss improved from 0.54316 to 0.53750, saving model to saved_models/audio_classification.hdf5\n",
            "66/66 [==============================] - 0s 5ms/step - loss: 0.6173 - accuracy: 0.6605 - val_loss: 0.5375 - val_accuracy: 0.6958\n",
            "Epoch 30/100\n",
            "62/66 [===========================>..] - ETA: 0s - loss: 0.6523 - accuracy: 0.6452\n",
            "Epoch 30: val_loss improved from 0.53750 to 0.53429, saving model to saved_models/audio_classification.hdf5\n",
            "66/66 [==============================] - 0s 5ms/step - loss: 0.6485 - accuracy: 0.6434 - val_loss: 0.5343 - val_accuracy: 0.6939\n",
            "Epoch 31/100\n",
            "63/66 [===========================>..] - ETA: 0s - loss: 0.6069 - accuracy: 0.6587\n",
            "Epoch 31: val_loss improved from 0.53429 to 0.53190, saving model to saved_models/audio_classification.hdf5\n",
            "66/66 [==============================] - 0s 5ms/step - loss: 0.6049 - accuracy: 0.6591 - val_loss: 0.5319 - val_accuracy: 0.6939\n",
            "Epoch 32/100\n",
            "59/66 [=========================>....] - ETA: 0s - loss: 0.6189 - accuracy: 0.6658\n",
            "Epoch 32: val_loss did not improve from 0.53190\n",
            "66/66 [==============================] - 0s 4ms/step - loss: 0.6102 - accuracy: 0.6681 - val_loss: 0.5355 - val_accuracy: 0.6863\n",
            "Epoch 33/100\n",
            "59/66 [=========================>....] - ETA: 0s - loss: 0.6035 - accuracy: 0.6822\n",
            "Epoch 33: val_loss did not improve from 0.53190\n",
            "66/66 [==============================] - 0s 5ms/step - loss: 0.6026 - accuracy: 0.6824 - val_loss: 0.5329 - val_accuracy: 0.6692\n",
            "Epoch 34/100\n",
            "63/66 [===========================>..] - ETA: 0s - loss: 0.6070 - accuracy: 0.6910\n",
            "Epoch 34: val_loss did not improve from 0.53190\n",
            "66/66 [==============================] - 0s 5ms/step - loss: 0.5988 - accuracy: 0.6961 - val_loss: 0.5527 - val_accuracy: 0.6730\n",
            "Epoch 35/100\n",
            "66/66 [==============================] - ETA: 0s - loss: 0.5881 - accuracy: 0.6795\n",
            "Epoch 35: val_loss improved from 0.53190 to 0.52161, saving model to saved_models/audio_classification.hdf5\n",
            "66/66 [==============================] - 0s 5ms/step - loss: 0.5881 - accuracy: 0.6795 - val_loss: 0.5216 - val_accuracy: 0.6920\n",
            "Epoch 36/100\n",
            "66/66 [==============================] - ETA: 0s - loss: 0.5815 - accuracy: 0.6695\n",
            "Epoch 36: val_loss improved from 0.52161 to 0.51573, saving model to saved_models/audio_classification.hdf5\n",
            "66/66 [==============================] - 0s 5ms/step - loss: 0.5815 - accuracy: 0.6695 - val_loss: 0.5157 - val_accuracy: 0.7034\n",
            "Epoch 37/100\n",
            "62/66 [===========================>..] - ETA: 0s - loss: 0.5936 - accuracy: 0.6840\n",
            "Epoch 37: val_loss did not improve from 0.51573\n",
            "66/66 [==============================] - 0s 5ms/step - loss: 0.5887 - accuracy: 0.6819 - val_loss: 0.5212 - val_accuracy: 0.6825\n",
            "Epoch 38/100\n",
            "60/66 [==========================>...] - ETA: 0s - loss: 0.5538 - accuracy: 0.6745\n",
            "Epoch 38: val_loss did not improve from 0.51573\n",
            "66/66 [==============================] - 0s 4ms/step - loss: 0.5611 - accuracy: 0.6724 - val_loss: 0.5186 - val_accuracy: 0.6920\n",
            "Epoch 39/100\n",
            "62/66 [===========================>..] - ETA: 0s - loss: 0.5730 - accuracy: 0.6804\n",
            "Epoch 39: val_loss did not improve from 0.51573\n",
            "66/66 [==============================] - 0s 4ms/step - loss: 0.5735 - accuracy: 0.6786 - val_loss: 0.5245 - val_accuracy: 0.6768\n",
            "Epoch 40/100\n",
            "55/66 [========================>.....] - ETA: 0s - loss: 0.5647 - accuracy: 0.6761\n",
            "Epoch 40: val_loss did not improve from 0.51573\n",
            "66/66 [==============================] - 0s 4ms/step - loss: 0.5603 - accuracy: 0.6762 - val_loss: 0.5263 - val_accuracy: 0.6958\n",
            "Epoch 41/100\n",
            "63/66 [===========================>..] - ETA: 0s - loss: 0.5613 - accuracy: 0.6657\n",
            "Epoch 41: val_loss did not improve from 0.51573\n",
            "66/66 [==============================] - 0s 4ms/step - loss: 0.5577 - accuracy: 0.6686 - val_loss: 0.5199 - val_accuracy: 0.6901\n",
            "Epoch 42/100\n",
            "62/66 [===========================>..] - ETA: 0s - loss: 0.5673 - accuracy: 0.6880\n",
            "Epoch 42: val_loss did not improve from 0.51573\n",
            "66/66 [==============================] - 0s 5ms/step - loss: 0.5697 - accuracy: 0.6871 - val_loss: 0.5252 - val_accuracy: 0.7053\n",
            "Epoch 43/100\n",
            "62/66 [===========================>..] - ETA: 0s - loss: 0.5516 - accuracy: 0.6885\n",
            "Epoch 43: val_loss improved from 0.51573 to 0.51274, saving model to saved_models/audio_classification.hdf5\n",
            "66/66 [==============================] - 0s 5ms/step - loss: 0.5481 - accuracy: 0.6909 - val_loss: 0.5127 - val_accuracy: 0.7072\n",
            "Epoch 44/100\n",
            "59/66 [=========================>....] - ETA: 0s - loss: 0.5469 - accuracy: 0.6811\n",
            "Epoch 44: val_loss improved from 0.51274 to 0.50914, saving model to saved_models/audio_classification.hdf5\n",
            "66/66 [==============================] - 0s 6ms/step - loss: 0.5595 - accuracy: 0.6819 - val_loss: 0.5091 - val_accuracy: 0.6768\n",
            "Epoch 45/100\n",
            "61/66 [==========================>...] - ETA: 0s - loss: 0.5443 - accuracy: 0.6972\n",
            "Epoch 45: val_loss improved from 0.50914 to 0.50239, saving model to saved_models/audio_classification.hdf5\n",
            "66/66 [==============================] - 0s 5ms/step - loss: 0.5517 - accuracy: 0.6914 - val_loss: 0.5024 - val_accuracy: 0.6616\n",
            "Epoch 46/100\n",
            "58/66 [=========================>....] - ETA: 0s - loss: 0.5212 - accuracy: 0.6983\n",
            "Epoch 46: val_loss did not improve from 0.50239\n",
            "66/66 [==============================] - 0s 5ms/step - loss: 0.5304 - accuracy: 0.6919 - val_loss: 0.5101 - val_accuracy: 0.6844\n",
            "Epoch 47/100\n",
            "60/66 [==========================>...] - ETA: 0s - loss: 0.5506 - accuracy: 0.6828\n",
            "Epoch 47: val_loss did not improve from 0.50239\n",
            "66/66 [==============================] - 0s 4ms/step - loss: 0.5546 - accuracy: 0.6805 - val_loss: 0.5088 - val_accuracy: 0.7015\n",
            "Epoch 48/100\n",
            "64/66 [============================>.] - ETA: 0s - loss: 0.5359 - accuracy: 0.6763\n",
            "Epoch 48: val_loss did not improve from 0.50239\n",
            "66/66 [==============================] - 0s 4ms/step - loss: 0.5340 - accuracy: 0.6776 - val_loss: 0.5045 - val_accuracy: 0.7034\n",
            "Epoch 49/100\n",
            "56/66 [========================>.....] - ETA: 0s - loss: 0.5328 - accuracy: 0.6881\n",
            "Epoch 49: val_loss did not improve from 0.50239\n",
            "66/66 [==============================] - 0s 5ms/step - loss: 0.5378 - accuracy: 0.6862 - val_loss: 0.5031 - val_accuracy: 0.6825\n",
            "Epoch 50/100\n",
            "60/66 [==========================>...] - ETA: 0s - loss: 0.5051 - accuracy: 0.6865\n",
            "Epoch 50: val_loss did not improve from 0.50239\n",
            "66/66 [==============================] - 0s 5ms/step - loss: 0.5130 - accuracy: 0.6824 - val_loss: 0.5105 - val_accuracy: 0.7015\n",
            "Epoch 51/100\n",
            "61/66 [==========================>...] - ETA: 0s - loss: 0.5206 - accuracy: 0.6880\n",
            "Epoch 51: val_loss did not improve from 0.50239\n",
            "66/66 [==============================] - 0s 7ms/step - loss: 0.5218 - accuracy: 0.6885 - val_loss: 0.5049 - val_accuracy: 0.6749\n",
            "Epoch 52/100\n",
            "61/66 [==========================>...] - ETA: 0s - loss: 0.5258 - accuracy: 0.6931\n",
            "Epoch 52: val_loss did not improve from 0.50239\n",
            "66/66 [==============================] - 0s 7ms/step - loss: 0.5202 - accuracy: 0.6995 - val_loss: 0.5161 - val_accuracy: 0.6920\n",
            "Epoch 53/100\n",
            "58/66 [=========================>....] - ETA: 0s - loss: 0.5160 - accuracy: 0.6956\n",
            "Epoch 53: val_loss did not improve from 0.50239\n",
            "66/66 [==============================] - 0s 7ms/step - loss: 0.5222 - accuracy: 0.6947 - val_loss: 0.5088 - val_accuracy: 0.7072\n",
            "Epoch 54/100\n",
            "60/66 [==========================>...] - ETA: 0s - loss: 0.5329 - accuracy: 0.6948\n",
            "Epoch 54: val_loss improved from 0.50239 to 0.48995, saving model to saved_models/audio_classification.hdf5\n",
            "66/66 [==============================] - 1s 8ms/step - loss: 0.5236 - accuracy: 0.7009 - val_loss: 0.4900 - val_accuracy: 0.7129\n",
            "Epoch 55/100\n",
            "58/66 [=========================>....] - ETA: 0s - loss: 0.5190 - accuracy: 0.6923\n",
            "Epoch 55: val_loss did not improve from 0.48995\n",
            "66/66 [==============================] - 0s 7ms/step - loss: 0.5116 - accuracy: 0.6971 - val_loss: 0.5196 - val_accuracy: 0.6825\n",
            "Epoch 56/100\n",
            "65/66 [============================>.] - ETA: 0s - loss: 0.5153 - accuracy: 0.6880\n",
            "Epoch 56: val_loss did not improve from 0.48995\n",
            "66/66 [==============================] - 0s 7ms/step - loss: 0.5163 - accuracy: 0.6866 - val_loss: 0.4984 - val_accuracy: 0.6939\n",
            "Epoch 57/100\n",
            "66/66 [==============================] - ETA: 0s - loss: 0.4972 - accuracy: 0.7023\n",
            "Epoch 57: val_loss did not improve from 0.48995\n",
            "66/66 [==============================] - 0s 7ms/step - loss: 0.4972 - accuracy: 0.7023 - val_loss: 0.4985 - val_accuracy: 0.6863\n",
            "Epoch 58/100\n",
            "61/66 [==========================>...] - ETA: 0s - loss: 0.5010 - accuracy: 0.6967\n",
            "Epoch 58: val_loss did not improve from 0.48995\n",
            "66/66 [==============================] - 0s 7ms/step - loss: 0.5029 - accuracy: 0.6966 - val_loss: 0.5035 - val_accuracy: 0.6844\n",
            "Epoch 59/100\n",
            "63/66 [===========================>..] - ETA: 0s - loss: 0.5192 - accuracy: 0.7073\n",
            "Epoch 59: val_loss improved from 0.48995 to 0.48112, saving model to saved_models/audio_classification.hdf5\n",
            "66/66 [==============================] - 1s 8ms/step - loss: 0.5170 - accuracy: 0.7066 - val_loss: 0.4811 - val_accuracy: 0.7205\n",
            "Epoch 60/100\n",
            "64/66 [============================>.] - ETA: 0s - loss: 0.5030 - accuracy: 0.6963\n",
            "Epoch 60: val_loss did not improve from 0.48112\n",
            "66/66 [==============================] - 0s 8ms/step - loss: 0.5065 - accuracy: 0.6942 - val_loss: 0.4844 - val_accuracy: 0.7110\n",
            "Epoch 61/100\n",
            "58/66 [=========================>....] - ETA: 0s - loss: 0.5113 - accuracy: 0.6929\n",
            "Epoch 61: val_loss did not improve from 0.48112\n",
            "66/66 [==============================] - 0s 7ms/step - loss: 0.5033 - accuracy: 0.6957 - val_loss: 0.4899 - val_accuracy: 0.7015\n",
            "Epoch 62/100\n",
            "62/66 [===========================>..] - ETA: 0s - loss: 0.4868 - accuracy: 0.7021\n",
            "Epoch 62: val_loss did not improve from 0.48112\n",
            "66/66 [==============================] - 0s 6ms/step - loss: 0.4856 - accuracy: 0.7038 - val_loss: 0.4994 - val_accuracy: 0.7053\n",
            "Epoch 63/100\n",
            "62/66 [===========================>..] - ETA: 0s - loss: 0.4980 - accuracy: 0.7016\n",
            "Epoch 63: val_loss did not improve from 0.48112\n",
            "66/66 [==============================] - 1s 8ms/step - loss: 0.4948 - accuracy: 0.7057 - val_loss: 0.5125 - val_accuracy: 0.6825\n",
            "Epoch 64/100\n",
            "60/66 [==========================>...] - ETA: 0s - loss: 0.4745 - accuracy: 0.7099\n",
            "Epoch 64: val_loss did not improve from 0.48112\n",
            "66/66 [==============================] - 0s 4ms/step - loss: 0.4766 - accuracy: 0.7076 - val_loss: 0.4880 - val_accuracy: 0.6882\n",
            "Epoch 65/100\n",
            "60/66 [==========================>...] - ETA: 0s - loss: 0.4977 - accuracy: 0.6943\n",
            "Epoch 65: val_loss did not improve from 0.48112\n",
            "66/66 [==============================] - 0s 5ms/step - loss: 0.5010 - accuracy: 0.6942 - val_loss: 0.4847 - val_accuracy: 0.6768\n",
            "Epoch 66/100\n",
            "58/66 [=========================>....] - ETA: 0s - loss: 0.4751 - accuracy: 0.7058\n",
            "Epoch 66: val_loss did not improve from 0.48112\n",
            "66/66 [==============================] - 0s 5ms/step - loss: 0.4731 - accuracy: 0.7080 - val_loss: 0.4965 - val_accuracy: 0.6939\n",
            "Epoch 67/100\n",
            "62/66 [===========================>..] - ETA: 0s - loss: 0.4956 - accuracy: 0.7011\n",
            "Epoch 67: val_loss did not improve from 0.48112\n",
            "66/66 [==============================] - 0s 4ms/step - loss: 0.4955 - accuracy: 0.7023 - val_loss: 0.4872 - val_accuracy: 0.6958\n",
            "Epoch 68/100\n",
            "63/66 [===========================>..] - ETA: 0s - loss: 0.4744 - accuracy: 0.6944\n",
            "Epoch 68: val_loss did not improve from 0.48112\n",
            "66/66 [==============================] - 0s 5ms/step - loss: 0.4739 - accuracy: 0.6919 - val_loss: 0.4834 - val_accuracy: 0.7091\n",
            "Epoch 69/100\n",
            "60/66 [==========================>...] - ETA: 0s - loss: 0.4808 - accuracy: 0.6771\n",
            "Epoch 69: val_loss did not improve from 0.48112\n",
            "66/66 [==============================] - 0s 5ms/step - loss: 0.4835 - accuracy: 0.6757 - val_loss: 0.4822 - val_accuracy: 0.7338\n",
            "Epoch 70/100\n",
            "55/66 [========================>.....] - ETA: 0s - loss: 0.4899 - accuracy: 0.7017\n",
            "Epoch 70: val_loss improved from 0.48112 to 0.48077, saving model to saved_models/audio_classification.hdf5\n",
            "66/66 [==============================] - 0s 6ms/step - loss: 0.4865 - accuracy: 0.7014 - val_loss: 0.4808 - val_accuracy: 0.6825\n",
            "Epoch 71/100\n",
            "61/66 [==========================>...] - ETA: 0s - loss: 0.4899 - accuracy: 0.7008\n",
            "Epoch 71: val_loss improved from 0.48077 to 0.47770, saving model to saved_models/audio_classification.hdf5\n",
            "66/66 [==============================] - 0s 5ms/step - loss: 0.4911 - accuracy: 0.7000 - val_loss: 0.4777 - val_accuracy: 0.7129\n",
            "Epoch 72/100\n",
            "64/66 [============================>.] - ETA: 0s - loss: 0.4788 - accuracy: 0.7046\n",
            "Epoch 72: val_loss did not improve from 0.47770\n",
            "66/66 [==============================] - 0s 4ms/step - loss: 0.4767 - accuracy: 0.7071 - val_loss: 0.4893 - val_accuracy: 0.6844\n",
            "Epoch 73/100\n",
            "58/66 [=========================>....] - ETA: 0s - loss: 0.4942 - accuracy: 0.7085\n",
            "Epoch 73: val_loss did not improve from 0.47770\n",
            "66/66 [==============================] - 0s 4ms/step - loss: 0.4871 - accuracy: 0.7095 - val_loss: 0.4978 - val_accuracy: 0.6939\n",
            "Epoch 74/100\n",
            "63/66 [===========================>..] - ETA: 0s - loss: 0.4686 - accuracy: 0.6969\n",
            "Epoch 74: val_loss did not improve from 0.47770\n",
            "66/66 [==============================] - 0s 4ms/step - loss: 0.4699 - accuracy: 0.6966 - val_loss: 0.4791 - val_accuracy: 0.6996\n",
            "Epoch 75/100\n",
            "63/66 [===========================>..] - ETA: 0s - loss: 0.4763 - accuracy: 0.7207\n",
            "Epoch 75: val_loss did not improve from 0.47770\n",
            "66/66 [==============================] - 0s 5ms/step - loss: 0.4776 - accuracy: 0.7194 - val_loss: 0.4963 - val_accuracy: 0.6806\n",
            "Epoch 76/100\n",
            "55/66 [========================>.....] - ETA: 0s - loss: 0.4762 - accuracy: 0.7119\n",
            "Epoch 76: val_loss did not improve from 0.47770\n",
            "66/66 [==============================] - 0s 5ms/step - loss: 0.4700 - accuracy: 0.7152 - val_loss: 0.4815 - val_accuracy: 0.7034\n",
            "Epoch 77/100\n",
            "58/66 [=========================>....] - ETA: 0s - loss: 0.4738 - accuracy: 0.7015\n",
            "Epoch 77: val_loss did not improve from 0.47770\n",
            "66/66 [==============================] - 0s 5ms/step - loss: 0.4780 - accuracy: 0.6976 - val_loss: 0.4827 - val_accuracy: 0.6863\n",
            "Epoch 78/100\n",
            "63/66 [===========================>..] - ETA: 0s - loss: 0.4738 - accuracy: 0.7103\n",
            "Epoch 78: val_loss improved from 0.47770 to 0.47322, saving model to saved_models/audio_classification.hdf5\n",
            "66/66 [==============================] - 0s 5ms/step - loss: 0.4747 - accuracy: 0.7090 - val_loss: 0.4732 - val_accuracy: 0.6825\n",
            "Epoch 79/100\n",
            "54/66 [=======================>......] - ETA: 0s - loss: 0.4886 - accuracy: 0.7095\n",
            "Epoch 79: val_loss improved from 0.47322 to 0.46538, saving model to saved_models/audio_classification.hdf5\n",
            "66/66 [==============================] - 0s 5ms/step - loss: 0.4839 - accuracy: 0.7076 - val_loss: 0.4654 - val_accuracy: 0.6863\n",
            "Epoch 80/100\n",
            "63/66 [===========================>..] - ETA: 0s - loss: 0.4680 - accuracy: 0.7098\n",
            "Epoch 80: val_loss did not improve from 0.46538\n",
            "66/66 [==============================] - 0s 4ms/step - loss: 0.4695 - accuracy: 0.7080 - val_loss: 0.4777 - val_accuracy: 0.6882\n",
            "Epoch 81/100\n",
            "62/66 [===========================>..] - ETA: 0s - loss: 0.4652 - accuracy: 0.6956\n",
            "Epoch 81: val_loss did not improve from 0.46538\n",
            "66/66 [==============================] - 0s 5ms/step - loss: 0.4681 - accuracy: 0.6952 - val_loss: 0.4772 - val_accuracy: 0.6939\n",
            "Epoch 82/100\n",
            "58/66 [=========================>....] - ETA: 0s - loss: 0.4639 - accuracy: 0.7080\n",
            "Epoch 82: val_loss did not improve from 0.46538\n",
            "66/66 [==============================] - 0s 5ms/step - loss: 0.4612 - accuracy: 0.7104 - val_loss: 0.4698 - val_accuracy: 0.7129\n",
            "Epoch 83/100\n",
            "60/66 [==========================>...] - ETA: 0s - loss: 0.4671 - accuracy: 0.7052\n",
            "Epoch 83: val_loss did not improve from 0.46538\n",
            "66/66 [==============================] - 0s 4ms/step - loss: 0.4691 - accuracy: 0.7080 - val_loss: 0.4958 - val_accuracy: 0.6863\n",
            "Epoch 84/100\n",
            "61/66 [==========================>...] - ETA: 0s - loss: 0.4937 - accuracy: 0.6865\n",
            "Epoch 84: val_loss did not improve from 0.46538\n",
            "66/66 [==============================] - 0s 5ms/step - loss: 0.4863 - accuracy: 0.6885 - val_loss: 0.4689 - val_accuracy: 0.7110\n",
            "Epoch 85/100\n",
            "57/66 [========================>.....] - ETA: 0s - loss: 0.4464 - accuracy: 0.7018\n",
            "Epoch 85: val_loss improved from 0.46538 to 0.46212, saving model to saved_models/audio_classification.hdf5\n",
            "66/66 [==============================] - 0s 5ms/step - loss: 0.4477 - accuracy: 0.7042 - val_loss: 0.4621 - val_accuracy: 0.7167\n",
            "Epoch 86/100\n",
            "57/66 [========================>.....] - ETA: 0s - loss: 0.4681 - accuracy: 0.7089\n",
            "Epoch 86: val_loss did not improve from 0.46212\n",
            "66/66 [==============================] - 0s 5ms/step - loss: 0.4716 - accuracy: 0.7033 - val_loss: 0.4874 - val_accuracy: 0.6692\n",
            "Epoch 87/100\n",
            "58/66 [=========================>....] - ETA: 0s - loss: 0.4729 - accuracy: 0.7177\n",
            "Epoch 87: val_loss did not improve from 0.46212\n",
            "66/66 [==============================] - 0s 5ms/step - loss: 0.4676 - accuracy: 0.7209 - val_loss: 0.4747 - val_accuracy: 0.7129\n",
            "Epoch 88/100\n",
            "58/66 [=========================>....] - ETA: 0s - loss: 0.4563 - accuracy: 0.7177\n",
            "Epoch 88: val_loss did not improve from 0.46212\n",
            "66/66 [==============================] - 0s 5ms/step - loss: 0.4585 - accuracy: 0.7161 - val_loss: 0.4799 - val_accuracy: 0.7072\n",
            "Epoch 89/100\n",
            "53/66 [=======================>......] - ETA: 0s - loss: 0.4590 - accuracy: 0.7158\n",
            "Epoch 89: val_loss did not improve from 0.46212\n",
            "66/66 [==============================] - 0s 5ms/step - loss: 0.4551 - accuracy: 0.7109 - val_loss: 0.4969 - val_accuracy: 0.6958\n",
            "Epoch 90/100\n",
            "58/66 [=========================>....] - ETA: 0s - loss: 0.4697 - accuracy: 0.7107\n",
            "Epoch 90: val_loss did not improve from 0.46212\n",
            "66/66 [==============================] - 0s 4ms/step - loss: 0.4681 - accuracy: 0.7109 - val_loss: 0.4768 - val_accuracy: 0.6939\n",
            "Epoch 91/100\n",
            "56/66 [========================>.....] - ETA: 0s - loss: 0.4660 - accuracy: 0.7154\n",
            "Epoch 91: val_loss did not improve from 0.46212\n",
            "66/66 [==============================] - 0s 5ms/step - loss: 0.4621 - accuracy: 0.7175 - val_loss: 0.4879 - val_accuracy: 0.6977\n",
            "Epoch 92/100\n",
            "55/66 [========================>.....] - ETA: 0s - loss: 0.4342 - accuracy: 0.7108\n",
            "Epoch 92: val_loss did not improve from 0.46212\n",
            "66/66 [==============================] - 0s 5ms/step - loss: 0.4452 - accuracy: 0.7104 - val_loss: 0.4987 - val_accuracy: 0.6863\n",
            "Epoch 93/100\n",
            "58/66 [=========================>....] - ETA: 0s - loss: 0.4731 - accuracy: 0.6999\n",
            "Epoch 93: val_loss did not improve from 0.46212\n",
            "66/66 [==============================] - 0s 5ms/step - loss: 0.4674 - accuracy: 0.7033 - val_loss: 0.4710 - val_accuracy: 0.6920\n",
            "Epoch 94/100\n",
            "66/66 [==============================] - ETA: 0s - loss: 0.4740 - accuracy: 0.7052\n",
            "Epoch 94: val_loss did not improve from 0.46212\n",
            "66/66 [==============================] - 0s 6ms/step - loss: 0.4740 - accuracy: 0.7052 - val_loss: 0.4721 - val_accuracy: 0.6939\n",
            "Epoch 95/100\n",
            "66/66 [==============================] - ETA: 0s - loss: 0.4627 - accuracy: 0.6919\n",
            "Epoch 95: val_loss improved from 0.46212 to 0.45667, saving model to saved_models/audio_classification.hdf5\n",
            "66/66 [==============================] - 0s 7ms/step - loss: 0.4627 - accuracy: 0.6919 - val_loss: 0.4567 - val_accuracy: 0.7167\n",
            "Epoch 96/100\n",
            "59/66 [=========================>....] - ETA: 0s - loss: 0.4547 - accuracy: 0.7087\n",
            "Epoch 96: val_loss did not improve from 0.45667\n",
            "66/66 [==============================] - 0s 7ms/step - loss: 0.4629 - accuracy: 0.7042 - val_loss: 0.4612 - val_accuracy: 0.7148\n",
            "Epoch 97/100\n",
            "66/66 [==============================] - ETA: 0s - loss: 0.4570 - accuracy: 0.6957\n",
            "Epoch 97: val_loss did not improve from 0.45667\n",
            "66/66 [==============================] - 0s 7ms/step - loss: 0.4570 - accuracy: 0.6957 - val_loss: 0.4703 - val_accuracy: 0.6977\n",
            "Epoch 98/100\n",
            "57/66 [========================>.....] - ETA: 0s - loss: 0.4395 - accuracy: 0.7133\n",
            "Epoch 98: val_loss did not improve from 0.45667\n",
            "66/66 [==============================] - 0s 7ms/step - loss: 0.4424 - accuracy: 0.7109 - val_loss: 0.4786 - val_accuracy: 0.6768\n",
            "Epoch 99/100\n",
            "59/66 [=========================>....] - ETA: 0s - loss: 0.4619 - accuracy: 0.7007\n",
            "Epoch 99: val_loss did not improve from 0.45667\n",
            "66/66 [==============================] - 0s 7ms/step - loss: 0.4635 - accuracy: 0.7033 - val_loss: 0.4902 - val_accuracy: 0.6901\n",
            "Epoch 100/100\n",
            "66/66 [==============================] - ETA: 0s - loss: 0.4594 - accuracy: 0.7252\n",
            "Epoch 100: val_loss did not improve from 0.45667\n",
            "66/66 [==============================] - 0s 7ms/step - loss: 0.4594 - accuracy: 0.7252 - val_loss: 0.4918 - val_accuracy: 0.7053\n",
            "Training Completed in time:  0:00:42.734182\n"
          ]
        }
      ]
    },
    {
      "cell_type": "code",
      "source": [
        "import matplotlib.pyplot as plt\n",
        "\n",
        "def plot_history(history):\n",
        "    key_value = history.history.keys()\n",
        "    plt.figure(figsize=(15,5))\n",
        "    for idx , key in enumerate(key_value):\n",
        "        plt.subplot(1, len(key_value), idx+1)\n",
        "        plt.plot(history.history[key], label='Training')\n",
        "\n",
        "        # Check if validation data is available\n",
        "        val_key = 'val_' + key\n",
        "        if val_key in history.history:\n",
        "            plt.plot(history.history[val_key], label='Validation')\n",
        "        plt.title(key)\n",
        "        plt.ylabel(key)\n",
        "        plt.xlabel('epoch')\n",
        "        plt.legend(['train', 'val'], loc='upper left')\n",
        "    plt.tight_layout()\n",
        "    plt.show()\n",
        "\n",
        "# Assuming you have already trained your model and obtained the 'history' object\n",
        "plot_history(history)"
      ],
      "metadata": {
        "colab": {
          "base_uri": "https://localhost:8080/",
          "height": 292
        },
        "id": "1v4SNPdOhp0x",
        "outputId": "2f44708e-45d3-4a99-a0ab-75f9cb265c13"
      },
      "execution_count": null,
      "outputs": [
        {
          "output_type": "display_data",
          "data": {
            "text/plain": [
              "<Figure size 1500x500 with 4 Axes>"
            ],
            "image/png": "[encoded data removed]"
          },
          "metadata": {}
        }
      ]
    },
    {
      "cell_type": "code",
      "source": [
        "test_accuracy=model.evaluate(X_test_reshaped,y_test,verbose=0)\n",
        "print(test_accuracy[1])"
      ],
      "metadata": {
        "colab": {
          "base_uri": "https://localhost:8080/"
        },
        "id": "mCgTf3ETh2pk",
        "outputId": "5b098127-07ad-480b-d93e-121da165ae2b"
      },
      "execution_count": null,
      "outputs": [
        {
          "output_type": "stream",
          "name": "stdout",
          "text": [
            "0.7053232192993164\n"
          ]
        }
      ]
    },
    {
      "cell_type": "code",
      "source": [
        "model.load_weights('saved_models/audio_classification.hdf5')"
      ],
      "metadata": {
        "id": "gcM-Z0aw5JhU"
      },
      "execution_count": null,
      "outputs": []
    },
    {
      "cell_type": "code",
      "source": [
        "from sklearn.metrics import confusion_matrix\n",
        "import seaborn as sns\n",
        "import matplotlib.pyplot as plt\n",
        "\n",
        "# 모델 예측 수행\n",
        "y_preds = model.predict(X_test_reshaped)\n",
        "# 예측값 중 가장 높은 확률을 가진 클래스 선택\n",
        "y_preds_argmax = np.argmax(y_preds, axis=1)\n",
        "# 실제 레이블 중 가장 높은 확률을 가진 클래스 선택\n",
        "y_test_argmax = np.argmax(y_test, axis=1)\n",
        "\n",
        "# 혼동 행렬 계산\n",
        "conf_matrix = confusion_matrix(y_test_argmax, y_preds_argmax)\n",
        "\n",
        "# 혼동 행렬 시각화\n",
        "plt.figure(figsize=(16, 9))\n",
        "sns.heatmap(\n",
        "    conf_matrix,\n",
        "    annot=True,\n",
        "    fmt=\"d\",\n",
        "    xticklabels=[\"Sound_Guitar\", \"Sound_Drum\", \"Sound_Piano\", \"Sound_Violin\"],\n",
        "    yticklabels=[\"Sound_Guitar\", \"Sound_Drum\", \"Sound_Piano\", \"Sound_Violin\"]\n",
        ")\n",
        "plt.title(\"Confusion Matrix\")\n",
        "plt.xlabel(\"Predicted Label\")\n",
        "plt.ylabel(\"True Label\")\n",
        "plt.show()\n"
      ],
      "metadata": {
        "colab": {
          "base_uri": "https://localhost:8080/",
          "height": 585
        },
        "id": "m13oUqppAX6E",
        "outputId": "415b159c-e5ad-4e52-8751-6b1d0ace4d7a"
      },
      "execution_count": null,
      "outputs": [
        {
          "output_type": "stream",
          "name": "stdout",
          "text": [
            "17/17 [==============================] - 0s 3ms/step\n"
          ]
        },
        {
          "output_type": "display_data",
          "data": {
            "text/plain": [
              "<Figure size 1600x900 with 2 Axes>"
            ],
            "image/png": "[encoded data removed]"
          },
          "metadata": {}
        }
      ]
    },
    {
      "cell_type": "code",
      "source": [
        "#Youtube APUI 를 이용해서 음성 파일 추출\n",
        "!pip install pytube"
      ],
      "metadata": {
        "colab": {
          "base_uri": "https://localhost:8080/"
        },
        "id": "XPtYZXdfdXgx",
        "outputId": "4eb38539-93cf-4b3a-da3e-d1ec4937efd4"
      },
      "execution_count": null,
      "outputs": [
        {
          "output_type": "stream",
          "name": "stdout",
          "text": [
            "Requirement already satisfied: pytube in /usr/local/lib/python3.10/dist-packages (15.0.0)\n"
          ]
        }
      ]
    },
    {
      "cell_type": "code",
      "source": [
        "from pytube import YouTube\n",
        "\n",
        "def download_youtube_audio(youtube_url, start_time, end_time, output_path):\n",
        "    yt = YouTube(youtube_url)\n",
        "    video = yt.streams.filter(only_audio=True).first()\n",
        "\n",
        "    # Download audio with a specific start and end time\n",
        "    video.download(output_path, filename=f'{start_time}_{end_time}.mp3')\n",
        "\n",
        "# Example usage\n",
        "youtube_url = 'https://www.youtube.com/watch?v=CTtUeNabfDk'\n",
        "start_time = 10  # Example start time in seconds\n",
        "end_time = 60    # Example end time in seconds\n",
        "output_path = 'path/to/save/audio'\n",
        "download_youtube_audio(youtube_url, start_time, end_time, output_path)"
      ],
      "metadata": {
        "id": "3i_yEP7sdWap"
      },
      "execution_count": null,
      "outputs": []
    },
    {
      "cell_type": "code",
      "source": [
        "# 오디오 파일을 모델 입력 형식으로 가공\n",
        "def preprocess_audio(audio_path):\n",
        "    # Load the audio file\n",
        "    audio, sr = librosa.load(audio_path, res_type='kaiser_fast')\n",
        "\n",
        "    # Extract MFCC features\n",
        "    mfccs_features = librosa.feature.mfcc(y=audio, sr=sr, n_mfcc=40)\n",
        "    mfccs_scaled_features = np.mean(mfccs_features.T, axis=0)\n",
        "\n",
        "    # Reshape for model input\n",
        "    model_input = mfccs_scaled_features.reshape(1, -1)\n",
        "\n",
        "    return model_input\n",
        "\n",
        "\n",
        "# 예측 결과 해석\n",
        "def interpret_prediction(prediction, label2id):\n",
        "    predicted_label_id = np.argmax(prediction)\n",
        "    predicted_label = label2id[predicted_label_id]\n",
        "    return predicted_label\n"
      ],
      "metadata": {
        "id": "Vyd2Ztuc5o-r"
      },
      "execution_count": null,
      "outputs": []
    },
    {
      "cell_type": "code",
      "source": [
        "# 다운로드한 오디오 파일 전처리 및 모델 예측\n",
        "downloaded_audio_path = f'{output_path}/{start_time}_{end_time}.mp3'\n",
        "model_input = preprocess_audio(downloaded_audio_path)\n",
        "prediction = model.predict(model_input)\n",
        "predicted_label = interpret_prediction(prediction, id2label)\n",
        "\n",
        "print(f\"Predicted Instrument: {predicted_label}\")"
      ],
      "metadata": {
        "id": "8C7toST9w_er",
        "colab": {
          "base_uri": "https://localhost:8080/"
        },
        "outputId": "05710937-5718-445c-f558-820ac591fae2"
      },
      "execution_count": null,
      "outputs": [
        {
          "output_type": "stream",
          "name": "stdout",
          "text": [
            "1/1 [==============================] - 0s 31ms/step\n",
            "Predicted Instrument: Sound_Guitar\n"
          ]
        }
      ]
    },
    {
      "cell_type": "code",
      "source": [
        "# 예측 결과를 시각화\n",
        "plt.figure(figsize=(8, 5))\n",
        "plt.bar(id2label.values(), prediction.flatten(), color='skyblue')\n",
        "plt.title(\"Predicted Probability Distribution\")\n",
        "plt.xlabel(\"Instrument\")\n",
        "plt.ylabel(\"Probability\")\n",
        "plt.show()"
      ],
      "metadata": {
        "colab": {
          "base_uri": "https://localhost:8080/",
          "height": 487
        },
        "id": "hLPTyu37BYVY",
        "outputId": "75d4bbc1-f8a0-4774-adae-c1ab28d2c709"
      },
      "execution_count": null,
      "outputs": [
        {
          "output_type": "display_data",
          "data": {
            "text/plain": [
              "<Figure size 800x500 with 1 Axes>"
            ],
            "image/png": "[encoded data removed]"
          },
          "metadata": {}
        }
      ]
    }
  ]
}